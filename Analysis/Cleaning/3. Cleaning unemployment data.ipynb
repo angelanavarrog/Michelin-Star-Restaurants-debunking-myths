{
 "cells": [
  {
   "cell_type": "markdown",
   "metadata": {},
   "source": [
    "# In this second cleaning notebook, I proceed with the cleaning of Spanish Q4 2020 unemployment and employment rates database."
   ]
  },
  {
   "cell_type": "markdown",
   "metadata": {},
   "source": [
    "## 1. Importing libraries that are used."
   ]
  },
  {
   "cell_type": "code",
   "execution_count": 1,
   "metadata": {},
   "outputs": [],
   "source": [
    "import pandas as pd\n",
    "import numpy as np"
   ]
  },
  {
   "cell_type": "markdown",
   "metadata": {},
   "source": [
    "## 2. Importing database and data exploration"
   ]
  },
  {
   "cell_type": "code",
   "execution_count": 2,
   "metadata": {},
   "outputs": [],
   "source": [
    "unemployment = pd.read_csv(\"../data/paro.csv\", encoding = \"ISO-8859-1\",sep = (\";\"), engine='python', error_bad_lines=False, warn_bad_lines=False)"
   ]
  },
  {
   "cell_type": "code",
   "execution_count": 3,
   "metadata": {},
   "outputs": [
    {
     "data": {
      "text/plain": [
       "(53, 5)"
      ]
     },
     "execution_count": 3,
     "metadata": {},
     "output_type": "execute_result"
    }
   ],
   "source": [
    "unemployment.shape"
   ]
  },
  {
   "cell_type": "code",
   "execution_count": 4,
   "metadata": {},
   "outputs": [
    {
     "data": {
      "text/html": [
       "<div>\n",
       "<style scoped>\n",
       "    .dataframe tbody tr th:only-of-type {\n",
       "        vertical-align: middle;\n",
       "    }\n",
       "\n",
       "    .dataframe tbody tr th {\n",
       "        vertical-align: top;\n",
       "    }\n",
       "\n",
       "    .dataframe thead th {\n",
       "        text-align: right;\n",
       "    }\n",
       "</style>\n",
       "<table border=\"1\" class=\"dataframe\">\n",
       "  <thead>\n",
       "    <tr style=\"text-align: right;\">\n",
       "      <th></th>\n",
       "      <th>Sexo</th>\n",
       "      <th>Provincias</th>\n",
       "      <th>Tasas</th>\n",
       "      <th>Periodo</th>\n",
       "      <th>Total</th>\n",
       "    </tr>\n",
       "  </thead>\n",
       "  <tbody>\n",
       "    <tr>\n",
       "      <th>0</th>\n",
       "      <td>Ambos sexos</td>\n",
       "      <td>Total Nacional</td>\n",
       "      <td>Tasa de paro de la población</td>\n",
       "      <td>2020T4</td>\n",
       "      <td>16,13</td>\n",
       "    </tr>\n",
       "    <tr>\n",
       "      <th>1</th>\n",
       "      <td>Ambos sexos</td>\n",
       "      <td>02 Albacete</td>\n",
       "      <td>Tasa de paro de la población</td>\n",
       "      <td>2020T4</td>\n",
       "      <td>17,44</td>\n",
       "    </tr>\n",
       "    <tr>\n",
       "      <th>2</th>\n",
       "      <td>Ambos sexos</td>\n",
       "      <td>03 Alicante/Alacant</td>\n",
       "      <td>Tasa de paro de la población</td>\n",
       "      <td>2020T4</td>\n",
       "      <td>19,41</td>\n",
       "    </tr>\n",
       "    <tr>\n",
       "      <th>3</th>\n",
       "      <td>Ambos sexos</td>\n",
       "      <td>04 Almería</td>\n",
       "      <td>Tasa de paro de la población</td>\n",
       "      <td>2020T4</td>\n",
       "      <td>21,15</td>\n",
       "    </tr>\n",
       "    <tr>\n",
       "      <th>4</th>\n",
       "      <td>Ambos sexos</td>\n",
       "      <td>01 Araba/Álava</td>\n",
       "      <td>Tasa de paro de la población</td>\n",
       "      <td>2020T4</td>\n",
       "      <td>9,99</td>\n",
       "    </tr>\n",
       "  </tbody>\n",
       "</table>\n",
       "</div>"
      ],
      "text/plain": [
       "          Sexo           Provincias                         Tasas Periodo  \\\n",
       "0  Ambos sexos       Total Nacional  Tasa de paro de la población  2020T4   \n",
       "1  Ambos sexos          02 Albacete  Tasa de paro de la población  2020T4   \n",
       "2  Ambos sexos  03 Alicante/Alacant  Tasa de paro de la población  2020T4   \n",
       "3  Ambos sexos           04 Almería  Tasa de paro de la población  2020T4   \n",
       "4  Ambos sexos       01 Araba/Álava  Tasa de paro de la población  2020T4   \n",
       "\n",
       "   Total  \n",
       "0  16,13  \n",
       "1  17,44  \n",
       "2  19,41  \n",
       "3  21,15  \n",
       "4   9,99  "
      ]
     },
     "execution_count": 4,
     "metadata": {},
     "output_type": "execute_result"
    }
   ],
   "source": [
    "unemployment.head()"
   ]
  },
  {
   "cell_type": "code",
   "execution_count": 5,
   "metadata": {},
   "outputs": [
    {
     "data": {
      "text/plain": [
       "Index(['Sexo', 'Provincias', 'Tasas', 'Periodo', 'Total'], dtype='object')"
      ]
     },
     "execution_count": 5,
     "metadata": {},
     "output_type": "execute_result"
    }
   ],
   "source": [
    "unemployment.columns"
   ]
  },
  {
   "cell_type": "code",
   "execution_count": 6,
   "metadata": {},
   "outputs": [
    {
     "data": {
      "text/plain": [
       "Sexo          object\n",
       "Provincias    object\n",
       "Tasas         object\n",
       "Periodo       object\n",
       "Total         object\n",
       "dtype: object"
      ]
     },
     "execution_count": 6,
     "metadata": {},
     "output_type": "execute_result"
    }
   ],
   "source": [
    "unemployment.dtypes"
   ]
  },
  {
   "cell_type": "markdown",
   "metadata": {},
   "source": [
    "## 3. Cleaning database"
   ]
  },
  {
   "cell_type": "markdown",
   "metadata": {},
   "source": [
    "### 3.1. Renaming information content of an specific column."
   ]
  },
  {
   "cell_type": "code",
   "execution_count": 7,
   "metadata": {},
   "outputs": [],
   "source": [
    "unemployment = unemployment.rename(columns={'Total': 'Unemployment rate'})"
   ]
  },
  {
   "cell_type": "markdown",
   "metadata": {},
   "source": [
    "### 3.2. Spliting information conent in column named \"Provincias\"."
   ]
  },
  {
   "cell_type": "code",
   "execution_count": 8,
   "metadata": {},
   "outputs": [],
   "source": [
    "provincias = unemployment[\"Provincias\"].str.split(\" \", n = 1, expand = True)"
   ]
  },
  {
   "cell_type": "code",
   "execution_count": 9,
   "metadata": {},
   "outputs": [],
   "source": [
    "unemployment[\"Provincias\"] = provincias[1]"
   ]
  },
  {
   "cell_type": "code",
   "execution_count": 10,
   "metadata": {},
   "outputs": [
    {
     "data": {
      "text/plain": [
       "array(['Nacional', 'Albacete', 'Alicante/Alacant', 'Almería',\n",
       "       'Araba/Álava', 'Asturias', 'Ávila', 'Badajoz', 'Balears, Illes',\n",
       "       'Barcelona', 'Bizkaia', 'Burgos', 'Cáceres', 'Cádiz', 'Cantabria',\n",
       "       'Castellón/Castelló', 'Ciudad Real', 'Córdoba', 'Coruña, A',\n",
       "       'Cuenca', 'Gipuzkoa', 'Girona', 'Granada', 'Guadalajara', 'Huelva',\n",
       "       'Huesca', 'Jaén', 'León', 'Lleida', 'Lugo', 'Madrid', 'Málaga',\n",
       "       'Murcia', 'Navarra', 'Ourense', 'Palencia', 'Palmas, Las',\n",
       "       'Pontevedra', 'Rioja, La', 'Salamanca', 'Santa Cruz de Tenerife',\n",
       "       'Segovia', 'Sevilla', 'Soria', 'Tarragona', 'Teruel', 'Toledo',\n",
       "       'Valencia/València', 'Valladolid', 'Zamora', 'Zaragoza', 'Ceuta',\n",
       "       'Melilla'], dtype=object)"
      ]
     },
     "execution_count": 10,
     "metadata": {},
     "output_type": "execute_result"
    }
   ],
   "source": [
    "unemployment[\"Provincias\"].unique()"
   ]
  },
  {
   "cell_type": "markdown",
   "metadata": {},
   "source": [
    "### 3.3. Replacing values."
   ]
  },
  {
   "cell_type": "markdown",
   "metadata": {},
   "source": [
    "#### 3.3.1. Replacing vowels"
   ]
  },
  {
   "cell_type": "markdown",
   "metadata": {},
   "source": [
    "Incluir en archivo .py"
   ]
  },
  {
   "cell_type": "code",
   "execution_count": 11,
   "metadata": {},
   "outputs": [],
   "source": [
    "def normalize(s):\n",
    "# Function to replace vowels accented by the same unaccented vowels.\n",
    "\n",
    "    replacements = (\n",
    "        (\"á\", \"a\"),\n",
    "        (\"é\", \"e\"),\n",
    "        (\"í\", \"i\"),\n",
    "        (\"ó\", \"o\"),\n",
    "        (\"ú\", \"u\")\n",
    "    )\n",
    "    for a, b in replacements:\n",
    "        s = s.replace(a, b).replace(a.upper(), b.upper())\n",
    "    return s"
   ]
  },
  {
   "cell_type": "code",
   "execution_count": 12,
   "metadata": {},
   "outputs": [],
   "source": [
    "unemployment[\"Provincias\"] =unemployment[\"Provincias\"].apply(normalize)"
   ]
  },
  {
   "cell_type": "markdown",
   "metadata": {},
   "source": [
    "#### 3.3.2. Replacing the names of the provinces with the names that appear in the restaurants' database"
   ]
  },
  {
   "cell_type": "code",
   "execution_count": 13,
   "metadata": {},
   "outputs": [],
   "source": [
    "unemployment.loc[unemployment[\"Provincias\"] == \"Alicante/Alacant\", \"Provincias\"] = \"Alicante\"\n",
    "unemployment.loc[unemployment[\"Provincias\"] == \"Coruña, A\", \"Provincias\"] = \"La Coruna\"\n",
    "unemployment.loc[unemployment[\"Provincias\"] == \"Rioja, La\", \"Provincias\"] = \"La Rioja\"\n",
    "unemployment.loc[unemployment[\"Provincias\"] == \"Bizkaia\", \"Provincias\"] = \"Vizcaya\"\n",
    "unemployment.loc[unemployment[\"Provincias\"] == \"Araba/Alava\", \"Provincias\"] = \"Alava\"\n",
    "unemployment.loc[unemployment[\"Provincias\"] == \"Castellon/Castello\", \"Provincias\"] = \"Castellon\"\n",
    "unemployment.loc[unemployment[\"Provincias\"] == \"Lleida\", \"Provincias\"] = \"Lerida\"\n",
    "unemployment.loc[unemployment[\"Provincias\"] == \"Gipuzkoa\", \"Provincias\"] = \"Guipuzcua\"\n",
    "unemployment.loc[unemployment[\"Provincias\"] == \"Girona\", \"Provincias\"] = \"Gerona\"\n",
    "unemployment.loc[unemployment[\"Provincias\"] == \"Valencia/València\", \"Provincias\"] = \"Valencia\"\n",
    "unemployment.loc[unemployment[\"Provincias\"] == \"Balears, Illes\", \"Provincias\"] = \"Islas Baleares\"\n",
    "unemployment.loc[unemployment[\"Provincias\"] == \"Palmas, Las\", \"Provincias\"] = \"Las Palmas\""
   ]
  },
  {
   "cell_type": "code",
   "execution_count": 14,
   "metadata": {},
   "outputs": [
    {
     "data": {
      "text/plain": [
       "array(['Nacional', 'Albacete', 'Alicante', 'Almeria', 'Alava', 'Asturias',\n",
       "       'Avila', 'Badajoz', 'Islas Baleares', 'Barcelona', 'Vizcaya',\n",
       "       'Burgos', 'Caceres', 'Cadiz', 'Cantabria', 'Castellon',\n",
       "       'Ciudad Real', 'Cordoba', 'La Coruna', 'Cuenca', 'Guipuzcua',\n",
       "       'Gerona', 'Granada', 'Guadalajara', 'Huelva', 'Huesca', 'Jaen',\n",
       "       'Leon', 'Lerida', 'Lugo', 'Madrid', 'Malaga', 'Murcia', 'Navarra',\n",
       "       'Ourense', 'Palencia', 'Las Palmas', 'Pontevedra', 'La Rioja',\n",
       "       'Salamanca', 'Santa Cruz de Tenerife', 'Segovia', 'Sevilla',\n",
       "       'Soria', 'Tarragona', 'Teruel', 'Toledo', 'Valencia', 'Valladolid',\n",
       "       'Zamora', 'Zaragoza', 'Ceuta', 'Melilla'], dtype=object)"
      ]
     },
     "execution_count": 14,
     "metadata": {},
     "output_type": "execute_result"
    }
   ],
   "source": [
    "unemployment.Provincias.unique()"
   ]
  },
  {
   "cell_type": "code",
   "execution_count": 15,
   "metadata": {},
   "outputs": [
    {
     "data": {
      "text/plain": [
       "(53, 5)"
      ]
     },
     "execution_count": 15,
     "metadata": {},
     "output_type": "execute_result"
    }
   ],
   "source": [
    "unemployment.shape"
   ]
  },
  {
   "cell_type": "markdown",
   "metadata": {},
   "source": [
    "### 3.4. Drop unnecessary column"
   ]
  },
  {
   "cell_type": "code",
   "execution_count": 16,
   "metadata": {},
   "outputs": [],
   "source": [
    "unemployment = unemployment.drop(['Tasas','Periodo','Sexo'], axis=1)"
   ]
  },
  {
   "cell_type": "code",
   "execution_count": 17,
   "metadata": {},
   "outputs": [
    {
     "data": {
      "text/html": [
       "<div>\n",
       "<style scoped>\n",
       "    .dataframe tbody tr th:only-of-type {\n",
       "        vertical-align: middle;\n",
       "    }\n",
       "\n",
       "    .dataframe tbody tr th {\n",
       "        vertical-align: top;\n",
       "    }\n",
       "\n",
       "    .dataframe thead th {\n",
       "        text-align: right;\n",
       "    }\n",
       "</style>\n",
       "<table border=\"1\" class=\"dataframe\">\n",
       "  <thead>\n",
       "    <tr style=\"text-align: right;\">\n",
       "      <th></th>\n",
       "      <th>Provincias</th>\n",
       "      <th>Unemployment rate</th>\n",
       "    </tr>\n",
       "  </thead>\n",
       "  <tbody>\n",
       "    <tr>\n",
       "      <th>0</th>\n",
       "      <td>Nacional</td>\n",
       "      <td>16,13</td>\n",
       "    </tr>\n",
       "    <tr>\n",
       "      <th>1</th>\n",
       "      <td>Albacete</td>\n",
       "      <td>17,44</td>\n",
       "    </tr>\n",
       "    <tr>\n",
       "      <th>2</th>\n",
       "      <td>Alicante</td>\n",
       "      <td>19,41</td>\n",
       "    </tr>\n",
       "    <tr>\n",
       "      <th>3</th>\n",
       "      <td>Almeria</td>\n",
       "      <td>21,15</td>\n",
       "    </tr>\n",
       "    <tr>\n",
       "      <th>4</th>\n",
       "      <td>Alava</td>\n",
       "      <td>9,99</td>\n",
       "    </tr>\n",
       "  </tbody>\n",
       "</table>\n",
       "</div>"
      ],
      "text/plain": [
       "  Provincias Unemployment rate\n",
       "0   Nacional             16,13\n",
       "1   Albacete             17,44\n",
       "2   Alicante             19,41\n",
       "3    Almeria             21,15\n",
       "4      Alava              9,99"
      ]
     },
     "execution_count": 17,
     "metadata": {},
     "output_type": "execute_result"
    }
   ],
   "source": [
    "unemployment.head()"
   ]
  },
  {
   "cell_type": "markdown",
   "metadata": {},
   "source": [
    "## 4. Exporting cleaning data"
   ]
  },
  {
   "cell_type": "code",
   "execution_count": 18,
   "metadata": {},
   "outputs": [],
   "source": [
    "unemployment = unemployment.reset_index(drop = True)"
   ]
  },
  {
   "cell_type": "code",
   "execution_count": 19,
   "metadata": {},
   "outputs": [
    {
     "data": {
      "text/html": [
       "<div>\n",
       "<style scoped>\n",
       "    .dataframe tbody tr th:only-of-type {\n",
       "        vertical-align: middle;\n",
       "    }\n",
       "\n",
       "    .dataframe tbody tr th {\n",
       "        vertical-align: top;\n",
       "    }\n",
       "\n",
       "    .dataframe thead th {\n",
       "        text-align: right;\n",
       "    }\n",
       "</style>\n",
       "<table border=\"1\" class=\"dataframe\">\n",
       "  <thead>\n",
       "    <tr style=\"text-align: right;\">\n",
       "      <th></th>\n",
       "      <th>Provincias</th>\n",
       "      <th>Unemployment rate</th>\n",
       "    </tr>\n",
       "  </thead>\n",
       "  <tbody>\n",
       "    <tr>\n",
       "      <th>0</th>\n",
       "      <td>Nacional</td>\n",
       "      <td>16,13</td>\n",
       "    </tr>\n",
       "    <tr>\n",
       "      <th>1</th>\n",
       "      <td>Albacete</td>\n",
       "      <td>17,44</td>\n",
       "    </tr>\n",
       "    <tr>\n",
       "      <th>2</th>\n",
       "      <td>Alicante</td>\n",
       "      <td>19,41</td>\n",
       "    </tr>\n",
       "    <tr>\n",
       "      <th>3</th>\n",
       "      <td>Almeria</td>\n",
       "      <td>21,15</td>\n",
       "    </tr>\n",
       "    <tr>\n",
       "      <th>4</th>\n",
       "      <td>Alava</td>\n",
       "      <td>9,99</td>\n",
       "    </tr>\n",
       "  </tbody>\n",
       "</table>\n",
       "</div>"
      ],
      "text/plain": [
       "  Provincias Unemployment rate\n",
       "0   Nacional             16,13\n",
       "1   Albacete             17,44\n",
       "2   Alicante             19,41\n",
       "3    Almeria             21,15\n",
       "4      Alava              9,99"
      ]
     },
     "execution_count": 19,
     "metadata": {},
     "output_type": "execute_result"
    }
   ],
   "source": [
    "unemployment.head()"
   ]
  },
  {
   "cell_type": "code",
   "execution_count": 20,
   "metadata": {},
   "outputs": [],
   "source": [
    "unemployment.to_csv(\"../output/unemployment.csv\", index = False)"
   ]
  }
 ],
 "metadata": {
  "kernelspec": {
   "display_name": "Python 3",
   "language": "python",
   "name": "python3"
  },
  "language_info": {
   "codemirror_mode": {
    "name": "ipython",
    "version": 3
   },
   "file_extension": ".py",
   "mimetype": "text/x-python",
   "name": "python",
   "nbconvert_exporter": "python",
   "pygments_lexer": "ipython3",
   "version": "3.9.1"
  }
 },
 "nbformat": 4,
 "nbformat_minor": 4
}
