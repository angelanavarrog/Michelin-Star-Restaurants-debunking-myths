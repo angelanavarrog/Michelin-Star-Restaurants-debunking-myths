{
 "cells": [
  {
   "cell_type": "markdown",
   "metadata": {},
   "source": [
    "## In this notebook, I proceed with the cleaning\n",
    "of Michelin Star Restaurants in Spain."
   ]
  },
  {
   "cell_type": "markdown",
   "metadata": {},
   "source": [
    "## Import libraries"
   ]
  },
  {
   "cell_type": "code",
   "execution_count": 1,
   "metadata": {},
   "outputs": [],
   "source": [
    "import pandas as pd\n",
    "import numpy as np"
   ]
  },
  {
   "cell_type": "markdown",
   "metadata": {},
   "source": [
    "## 1. Import database and data exploration"
   ]
  },
  {
   "cell_type": "code",
   "execution_count": 2,
   "metadata": {},
   "outputs": [],
   "source": [
    "restaurants = pd.read_csv(\"../data/restaurants.csv\", encoding = \"ISO-8859-1\",sep = (\";\"), engine='python', error_bad_lines=False, warn_bad_lines=False)"
   ]
  },
  {
   "cell_type": "code",
   "execution_count": 3,
   "metadata": {},
   "outputs": [
    {
     "data": {
      "text/plain": [
       "(220, 14)"
      ]
     },
     "execution_count": 3,
     "metadata": {},
     "output_type": "execute_result"
    }
   ],
   "source": [
    "restaurants.shape"
   ]
  },
  {
   "cell_type": "code",
   "execution_count": 4,
   "metadata": {},
   "outputs": [
    {
     "data": {
      "text/html": [
       "<div>\n",
       "<style scoped>\n",
       "    .dataframe tbody tr th:only-of-type {\n",
       "        vertical-align: middle;\n",
       "    }\n",
       "\n",
       "    .dataframe tbody tr th {\n",
       "        vertical-align: top;\n",
       "    }\n",
       "\n",
       "    .dataframe thead th {\n",
       "        text-align: right;\n",
       "    }\n",
       "</style>\n",
       "<table border=\"1\" class=\"dataframe\">\n",
       "  <thead>\n",
       "    <tr style=\"text-align: right;\">\n",
       "      <th></th>\n",
       "      <th>restaurant_name</th>\n",
       "      <th>michelin_stars</th>\n",
       "      <th>city</th>\n",
       "      <th>province</th>\n",
       "      <th>CCAA</th>\n",
       "      <th>coast_province</th>\n",
       "      <th>coordenates</th>\n",
       "      <th>price_menu_1</th>\n",
       "      <th>price_menu_2</th>\n",
       "      <th>price_average</th>\n",
       "      <th>type_of_cooking1</th>\n",
       "      <th>type_of_cooking2</th>\n",
       "      <th>International_cooking</th>\n",
       "      <th>regional_cooking</th>\n",
       "    </tr>\n",
       "  </thead>\n",
       "  <tbody>\n",
       "    <tr>\n",
       "      <th>0</th>\n",
       "      <td>Mantua</td>\n",
       "      <td>1</td>\n",
       "      <td>Jerez de la Frontera</td>\n",
       "      <td>Cadiz</td>\n",
       "      <td>Andalucia</td>\n",
       "      <td>Yes</td>\n",
       "      <td>36.6874279,-6.1380431</td>\n",
       "      <td>75</td>\n",
       "      <td>90.0</td>\n",
       "      <td>82.5</td>\n",
       "      <td>Moderna</td>\n",
       "      <td>NaN</td>\n",
       "      <td>NaN</td>\n",
       "      <td>NaN</td>\n",
       "    </tr>\n",
       "    <tr>\n",
       "      <th>1</th>\n",
       "      <td>Lu Cocina y Alma</td>\n",
       "      <td>1</td>\n",
       "      <td>Jerez de la Frontera</td>\n",
       "      <td>Cadiz</td>\n",
       "      <td>Andalucia</td>\n",
       "      <td>Yes</td>\n",
       "      <td>36.6876237,-6.1376777</td>\n",
       "      <td>90</td>\n",
       "      <td>150.0</td>\n",
       "      <td>120.0</td>\n",
       "      <td>Moderna</td>\n",
       "      <td>NaN</td>\n",
       "      <td>NaN</td>\n",
       "      <td>NaN</td>\n",
       "    </tr>\n",
       "    <tr>\n",
       "      <th>2</th>\n",
       "      <td>Aponiente</td>\n",
       "      <td>3</td>\n",
       "      <td>El Puerto de Santa Maria</td>\n",
       "      <td>Cadiz</td>\n",
       "      <td>Andalucia</td>\n",
       "      <td>Yes</td>\n",
       "      <td>36.605854,-6.2157528</td>\n",
       "      <td>215</td>\n",
       "      <td>NaN</td>\n",
       "      <td>215.0</td>\n",
       "      <td>Creativa</td>\n",
       "      <td>Innovadora</td>\n",
       "      <td>NaN</td>\n",
       "      <td>NaN</td>\n",
       "    </tr>\n",
       "    <tr>\n",
       "      <th>3</th>\n",
       "      <td>Alevante</td>\n",
       "      <td>1</td>\n",
       "      <td>Novo Sancti Petri</td>\n",
       "      <td>Cadiz</td>\n",
       "      <td>Andalucia</td>\n",
       "      <td>Yes</td>\n",
       "      <td>36.3442398,-6.1616944</td>\n",
       "      <td>115</td>\n",
       "      <td>135.0</td>\n",
       "      <td>125.0</td>\n",
       "      <td>Creativa</td>\n",
       "      <td>Innovadora</td>\n",
       "      <td>NaN</td>\n",
       "      <td>NaN</td>\n",
       "    </tr>\n",
       "    <tr>\n",
       "      <th>4</th>\n",
       "      <td>Abantal</td>\n",
       "      <td>1</td>\n",
       "      <td>Sevilla</td>\n",
       "      <td>Sevilla</td>\n",
       "      <td>Andalucia</td>\n",
       "      <td>No</td>\n",
       "      <td>37.3879127,-5.98587</td>\n",
       "      <td>80</td>\n",
       "      <td>100.0</td>\n",
       "      <td>90.0</td>\n",
       "      <td>Creativa</td>\n",
       "      <td>NaN</td>\n",
       "      <td>NaN</td>\n",
       "      <td>NaN</td>\n",
       "    </tr>\n",
       "  </tbody>\n",
       "</table>\n",
       "</div>"
      ],
      "text/plain": [
       "    restaurant_name  michelin_stars                      city province  \\\n",
       "0            Mantua               1      Jerez de la Frontera    Cadiz   \n",
       "1  Lu Cocina y Alma               1      Jerez de la Frontera    Cadiz   \n",
       "2         Aponiente               3  El Puerto de Santa Maria    Cadiz   \n",
       "3          Alevante               1         Novo Sancti Petri    Cadiz   \n",
       "4           Abantal               1                   Sevilla  Sevilla   \n",
       "\n",
       "        CCAA coast_province            coordenates  price_menu_1  \\\n",
       "0  Andalucia            Yes  36.6874279,-6.1380431            75   \n",
       "1  Andalucia            Yes  36.6876237,-6.1376777            90   \n",
       "2  Andalucia            Yes   36.605854,-6.2157528           215   \n",
       "3  Andalucia            Yes  36.3442398,-6.1616944           115   \n",
       "4  Andalucia             No    37.3879127,-5.98587            80   \n",
       "\n",
       "   price_menu_2  price_average type_of_cooking1 type_of_cooking2  \\\n",
       "0          90.0           82.5          Moderna              NaN   \n",
       "1         150.0          120.0          Moderna              NaN   \n",
       "2           NaN          215.0         Creativa       Innovadora   \n",
       "3         135.0          125.0         Creativa       Innovadora   \n",
       "4         100.0           90.0         Creativa              NaN   \n",
       "\n",
       "  International_cooking regional_cooking  \n",
       "0                   NaN              NaN  \n",
       "1                   NaN              NaN  \n",
       "2                   NaN              NaN  \n",
       "3                   NaN              NaN  \n",
       "4                   NaN              NaN  "
      ]
     },
     "execution_count": 4,
     "metadata": {},
     "output_type": "execute_result"
    }
   ],
   "source": [
    "restaurants.head()"
   ]
  },
  {
   "cell_type": "code",
   "execution_count": 5,
   "metadata": {},
   "outputs": [
    {
     "data": {
      "text/plain": [
       "Index(['restaurant_name', 'michelin_stars', 'city', 'province', 'CCAA',\n",
       "       'coast_province', 'coordenates', 'price_menu_1', 'price_menu_2',\n",
       "       'price_average', 'type_of_cooking1', 'type_of_cooking2',\n",
       "       'International_cooking', 'regional_cooking'],\n",
       "      dtype='object')"
      ]
     },
     "execution_count": 5,
     "metadata": {},
     "output_type": "execute_result"
    }
   ],
   "source": [
    "restaurants.columns"
   ]
  },
  {
   "cell_type": "code",
   "execution_count": 6,
   "metadata": {},
   "outputs": [
    {
     "data": {
      "text/plain": [
       "restaurant_name           object\n",
       "michelin_stars             int64\n",
       "city                      object\n",
       "province                  object\n",
       "CCAA                      object\n",
       "coast_province            object\n",
       "coordenates               object\n",
       "price_menu_1               int64\n",
       "price_menu_2             float64\n",
       "price_average            float64\n",
       "type_of_cooking1          object\n",
       "type_of_cooking2          object\n",
       "International_cooking     object\n",
       "regional_cooking          object\n",
       "dtype: object"
      ]
     },
     "execution_count": 6,
     "metadata": {},
     "output_type": "execute_result"
    }
   ],
   "source": [
    "restaurants.dtypes"
   ]
  },
  {
   "cell_type": "markdown",
   "metadata": {},
   "source": [
    "## 2. Cleaning"
   ]
  },
  {
   "cell_type": "markdown",
   "metadata": {},
   "source": [
    "### 2.1. Deleting blank rows"
   ]
  },
  {
   "cell_type": "code",
   "execution_count": 7,
   "metadata": {},
   "outputs": [],
   "source": [
    "resturants = restaurants.drop(restaurants[restaurants.CCAA.isnull()].index, inplace = True)"
   ]
  },
  {
   "cell_type": "code",
   "execution_count": 8,
   "metadata": {
    "scrolled": true
   },
   "outputs": [
    {
     "data": {
      "text/plain": [
       "(220, 14)"
      ]
     },
     "execution_count": 8,
     "metadata": {},
     "output_type": "execute_result"
    }
   ],
   "source": [
    "restaurants.shape"
   ]
  },
  {
   "cell_type": "markdown",
   "metadata": {},
   "source": [
    "### 2.2. Renaming columns"
   ]
  },
  {
   "cell_type": "code",
   "execution_count": 9,
   "metadata": {},
   "outputs": [],
   "source": [
    "restaurants = restaurants.rename(columns={'International_cooking': 'international_cooking'})\n",
    "restaurants = restaurants.rename(columns={'CCAA': 'region'})\n",
    "restaurants = restaurants.rename(columns={'restaurant_name': 'restaurant'})"
   ]
  },
  {
   "cell_type": "markdown",
   "metadata": {},
   "source": [
    "### 2.3. Replacing values"
   ]
  },
  {
   "cell_type": "markdown",
   "metadata": {},
   "source": [
    "Replace all \"ñ\" letters in our database."
   ]
  },
  {
   "cell_type": "code",
   "execution_count": 10,
   "metadata": {},
   "outputs": [],
   "source": [
    "restaurants.loc[restaurants[\"region\"] == \"Catalua\", \"region\"] = \"Cataluna\"\n",
    "restaurants.loc[restaurants[\"province\"] == \"La Corua\", \"province\"] = \"La Coruna\"\n",
    "restaurants.loc[restaurants[\"city\"] == \"La Corua\", \"city\"] = \"La Coruna\""
   ]
  },
  {
   "cell_type": "markdown",
   "metadata": {},
   "source": [
    "### 2.4. Spliting coordenates column into latitude and longitude"
   ]
  },
  {
   "cell_type": "code",
   "execution_count": 11,
   "metadata": {},
   "outputs": [],
   "source": [
    "coordenates = restaurants[\"coordenates\"].str.split(\",\", n = 1, expand = True)"
   ]
  },
  {
   "cell_type": "code",
   "execution_count": 12,
   "metadata": {},
   "outputs": [],
   "source": [
    "restaurants[\"latitude\"]= coordenates[0]\n",
    "restaurants[\"longitude\"]= coordenates[1]"
   ]
  },
  {
   "cell_type": "code",
   "execution_count": 13,
   "metadata": {},
   "outputs": [
    {
     "data": {
      "text/plain": [
       "(220, 16)"
      ]
     },
     "execution_count": 13,
     "metadata": {},
     "output_type": "execute_result"
    }
   ],
   "source": [
    "restaurants.shape"
   ]
  },
  {
   "cell_type": "markdown",
   "metadata": {},
   "source": [
    "### 2.5. Reordering columns"
   ]
  },
  {
   "cell_type": "code",
   "execution_count": 14,
   "metadata": {},
   "outputs": [],
   "source": [
    "restaurants = restaurants.reindex(columns = ['restaurant','michelin_stars','city','province','region','coast_province','coordenates','latitude','longitude','price_menu_1','price_menu_2','price_average','type_of_cooking1','type_of_cooking2','international_cooking','regional_cooking'])"
   ]
  },
  {
   "cell_type": "markdown",
   "metadata": {},
   "source": [
    "## 3. Exporting cleaning data"
   ]
  },
  {
   "cell_type": "code",
   "execution_count": 15,
   "metadata": {},
   "outputs": [],
   "source": [
    "restaurants = restaurants.reset_index(drop=True)"
   ]
  },
  {
   "cell_type": "code",
   "execution_count": 16,
   "metadata": {},
   "outputs": [
    {
     "data": {
      "text/html": [
       "<div>\n",
       "<style scoped>\n",
       "    .dataframe tbody tr th:only-of-type {\n",
       "        vertical-align: middle;\n",
       "    }\n",
       "\n",
       "    .dataframe tbody tr th {\n",
       "        vertical-align: top;\n",
       "    }\n",
       "\n",
       "    .dataframe thead th {\n",
       "        text-align: right;\n",
       "    }\n",
       "</style>\n",
       "<table border=\"1\" class=\"dataframe\">\n",
       "  <thead>\n",
       "    <tr style=\"text-align: right;\">\n",
       "      <th></th>\n",
       "      <th>restaurant</th>\n",
       "      <th>michelin_stars</th>\n",
       "      <th>city</th>\n",
       "      <th>province</th>\n",
       "      <th>region</th>\n",
       "      <th>coast_province</th>\n",
       "      <th>coordenates</th>\n",
       "      <th>latitude</th>\n",
       "      <th>longitude</th>\n",
       "      <th>price_menu_1</th>\n",
       "      <th>price_menu_2</th>\n",
       "      <th>price_average</th>\n",
       "      <th>type_of_cooking1</th>\n",
       "      <th>type_of_cooking2</th>\n",
       "      <th>international_cooking</th>\n",
       "      <th>regional_cooking</th>\n",
       "    </tr>\n",
       "  </thead>\n",
       "  <tbody>\n",
       "    <tr>\n",
       "      <th>0</th>\n",
       "      <td>Mantua</td>\n",
       "      <td>1</td>\n",
       "      <td>Jerez de la Frontera</td>\n",
       "      <td>Cadiz</td>\n",
       "      <td>Andalucia</td>\n",
       "      <td>Yes</td>\n",
       "      <td>36.6874279,-6.1380431</td>\n",
       "      <td>36.6874279</td>\n",
       "      <td>-6.1380431</td>\n",
       "      <td>75</td>\n",
       "      <td>90.0</td>\n",
       "      <td>82.5</td>\n",
       "      <td>Moderna</td>\n",
       "      <td>NaN</td>\n",
       "      <td>NaN</td>\n",
       "      <td>NaN</td>\n",
       "    </tr>\n",
       "    <tr>\n",
       "      <th>1</th>\n",
       "      <td>Lu Cocina y Alma</td>\n",
       "      <td>1</td>\n",
       "      <td>Jerez de la Frontera</td>\n",
       "      <td>Cadiz</td>\n",
       "      <td>Andalucia</td>\n",
       "      <td>Yes</td>\n",
       "      <td>36.6876237,-6.1376777</td>\n",
       "      <td>36.6876237</td>\n",
       "      <td>-6.1376777</td>\n",
       "      <td>90</td>\n",
       "      <td>150.0</td>\n",
       "      <td>120.0</td>\n",
       "      <td>Moderna</td>\n",
       "      <td>NaN</td>\n",
       "      <td>NaN</td>\n",
       "      <td>NaN</td>\n",
       "    </tr>\n",
       "    <tr>\n",
       "      <th>2</th>\n",
       "      <td>Aponiente</td>\n",
       "      <td>3</td>\n",
       "      <td>El Puerto de Santa Maria</td>\n",
       "      <td>Cadiz</td>\n",
       "      <td>Andalucia</td>\n",
       "      <td>Yes</td>\n",
       "      <td>36.605854,-6.2157528</td>\n",
       "      <td>36.605854</td>\n",
       "      <td>-6.2157528</td>\n",
       "      <td>215</td>\n",
       "      <td>NaN</td>\n",
       "      <td>215.0</td>\n",
       "      <td>Creativa</td>\n",
       "      <td>Innovadora</td>\n",
       "      <td>NaN</td>\n",
       "      <td>NaN</td>\n",
       "    </tr>\n",
       "    <tr>\n",
       "      <th>3</th>\n",
       "      <td>Alevante</td>\n",
       "      <td>1</td>\n",
       "      <td>Novo Sancti Petri</td>\n",
       "      <td>Cadiz</td>\n",
       "      <td>Andalucia</td>\n",
       "      <td>Yes</td>\n",
       "      <td>36.3442398,-6.1616944</td>\n",
       "      <td>36.3442398</td>\n",
       "      <td>-6.1616944</td>\n",
       "      <td>115</td>\n",
       "      <td>135.0</td>\n",
       "      <td>125.0</td>\n",
       "      <td>Creativa</td>\n",
       "      <td>Innovadora</td>\n",
       "      <td>NaN</td>\n",
       "      <td>NaN</td>\n",
       "    </tr>\n",
       "    <tr>\n",
       "      <th>4</th>\n",
       "      <td>Abantal</td>\n",
       "      <td>1</td>\n",
       "      <td>Sevilla</td>\n",
       "      <td>Sevilla</td>\n",
       "      <td>Andalucia</td>\n",
       "      <td>No</td>\n",
       "      <td>37.3879127,-5.98587</td>\n",
       "      <td>37.3879127</td>\n",
       "      <td>-5.98587</td>\n",
       "      <td>80</td>\n",
       "      <td>100.0</td>\n",
       "      <td>90.0</td>\n",
       "      <td>Creativa</td>\n",
       "      <td>NaN</td>\n",
       "      <td>NaN</td>\n",
       "      <td>NaN</td>\n",
       "    </tr>\n",
       "  </tbody>\n",
       "</table>\n",
       "</div>"
      ],
      "text/plain": [
       "         restaurant  michelin_stars                      city province  \\\n",
       "0            Mantua               1      Jerez de la Frontera    Cadiz   \n",
       "1  Lu Cocina y Alma               1      Jerez de la Frontera    Cadiz   \n",
       "2         Aponiente               3  El Puerto de Santa Maria    Cadiz   \n",
       "3          Alevante               1         Novo Sancti Petri    Cadiz   \n",
       "4           Abantal               1                   Sevilla  Sevilla   \n",
       "\n",
       "      region coast_province            coordenates    latitude   longitude  \\\n",
       "0  Andalucia            Yes  36.6874279,-6.1380431  36.6874279  -6.1380431   \n",
       "1  Andalucia            Yes  36.6876237,-6.1376777  36.6876237  -6.1376777   \n",
       "2  Andalucia            Yes   36.605854,-6.2157528   36.605854  -6.2157528   \n",
       "3  Andalucia            Yes  36.3442398,-6.1616944  36.3442398  -6.1616944   \n",
       "4  Andalucia             No    37.3879127,-5.98587  37.3879127    -5.98587   \n",
       "\n",
       "   price_menu_1  price_menu_2  price_average type_of_cooking1  \\\n",
       "0            75          90.0           82.5          Moderna   \n",
       "1            90         150.0          120.0          Moderna   \n",
       "2           215           NaN          215.0         Creativa   \n",
       "3           115         135.0          125.0         Creativa   \n",
       "4            80         100.0           90.0         Creativa   \n",
       "\n",
       "  type_of_cooking2 international_cooking regional_cooking  \n",
       "0              NaN                   NaN              NaN  \n",
       "1              NaN                   NaN              NaN  \n",
       "2       Innovadora                   NaN              NaN  \n",
       "3       Innovadora                   NaN              NaN  \n",
       "4              NaN                   NaN              NaN  "
      ]
     },
     "execution_count": 16,
     "metadata": {},
     "output_type": "execute_result"
    }
   ],
   "source": [
    "restaurants.head()"
   ]
  },
  {
   "cell_type": "code",
   "execution_count": 17,
   "metadata": {},
   "outputs": [],
   "source": [
    "restaurants.to_csv(\"../output/restaurants.csv\", index = False)"
   ]
  }
 ],
 "metadata": {
  "kernelspec": {
   "display_name": "Python 3",
   "language": "python",
   "name": "python3"
  },
  "language_info": {
   "codemirror_mode": {
    "name": "ipython",
    "version": 3
   },
   "file_extension": ".py",
   "mimetype": "text/x-python",
   "name": "python",
   "nbconvert_exporter": "python",
   "pygments_lexer": "ipython3",
   "version": "3.9.1"
  }
 },
 "nbformat": 4,
 "nbformat_minor": 4
}
