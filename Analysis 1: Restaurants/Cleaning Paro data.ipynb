{
 "cells": [
  {
   "cell_type": "markdown",
   "metadata": {},
   "source": [
    "# In this second cleaning notebook, I proceed with the cleaning of Spanish Q4 2020 unemployment and employment rates database."
   ]
  },
  {
   "cell_type": "markdown",
   "metadata": {},
   "source": [
    "## 1. Importing libraries that are used."
   ]
  },
  {
   "cell_type": "code",
   "execution_count": 1,
   "metadata": {},
   "outputs": [],
   "source": [
    "import pandas as pd\n",
    "import numpy as np"
   ]
  },
  {
   "cell_type": "markdown",
   "metadata": {},
   "source": [
    "## 2. Import database and data exploration"
   ]
  },
  {
   "cell_type": "code",
   "execution_count": 2,
   "metadata": {},
   "outputs": [],
   "source": [
    "tasas = pd.read_csv(\"../data/tasas.csv\", encoding = \"ISO-8859-1\",sep = (\";\"), engine='python', error_bad_lines=False, warn_bad_lines=False)"
   ]
  },
  {
   "cell_type": "code",
   "execution_count": 3,
   "metadata": {},
   "outputs": [
    {
     "data": {
      "text/plain": [
       "(106, 5)"
      ]
     },
     "execution_count": 3,
     "metadata": {},
     "output_type": "execute_result"
    }
   ],
   "source": [
    "tasas.shape"
   ]
  },
  {
   "cell_type": "code",
   "execution_count": 4,
   "metadata": {},
   "outputs": [
    {
     "data": {
      "text/html": [
       "<div>\n",
       "<style scoped>\n",
       "    .dataframe tbody tr th:only-of-type {\n",
       "        vertical-align: middle;\n",
       "    }\n",
       "\n",
       "    .dataframe tbody tr th {\n",
       "        vertical-align: top;\n",
       "    }\n",
       "\n",
       "    .dataframe thead th {\n",
       "        text-align: right;\n",
       "    }\n",
       "</style>\n",
       "<table border=\"1\" class=\"dataframe\">\n",
       "  <thead>\n",
       "    <tr style=\"text-align: right;\">\n",
       "      <th></th>\n",
       "      <th>Sexo</th>\n",
       "      <th>Provincias</th>\n",
       "      <th>Tasas</th>\n",
       "      <th>Periodo</th>\n",
       "      <th>Total</th>\n",
       "    </tr>\n",
       "  </thead>\n",
       "  <tbody>\n",
       "    <tr>\n",
       "      <th>0</th>\n",
       "      <td>Ambos sexos</td>\n",
       "      <td>Total Nacional</td>\n",
       "      <td>Tasa de paro de la población</td>\n",
       "      <td>2020T4</td>\n",
       "      <td>16,13</td>\n",
       "    </tr>\n",
       "    <tr>\n",
       "      <th>1</th>\n",
       "      <td>Ambos sexos</td>\n",
       "      <td>Total Nacional</td>\n",
       "      <td>Tasa de empleo de la población</td>\n",
       "      <td>2020T4</td>\n",
       "      <td>48,81</td>\n",
       "    </tr>\n",
       "    <tr>\n",
       "      <th>2</th>\n",
       "      <td>Ambos sexos</td>\n",
       "      <td>02 Albacete</td>\n",
       "      <td>Tasa de paro de la población</td>\n",
       "      <td>2020T4</td>\n",
       "      <td>17,44</td>\n",
       "    </tr>\n",
       "    <tr>\n",
       "      <th>3</th>\n",
       "      <td>Ambos sexos</td>\n",
       "      <td>02 Albacete</td>\n",
       "      <td>Tasa de empleo de la población</td>\n",
       "      <td>2020T4</td>\n",
       "      <td>48,63</td>\n",
       "    </tr>\n",
       "    <tr>\n",
       "      <th>4</th>\n",
       "      <td>Ambos sexos</td>\n",
       "      <td>03 Alicante/Alacant</td>\n",
       "      <td>Tasa de paro de la población</td>\n",
       "      <td>2020T4</td>\n",
       "      <td>19,41</td>\n",
       "    </tr>\n",
       "  </tbody>\n",
       "</table>\n",
       "</div>"
      ],
      "text/plain": [
       "          Sexo           Provincias                           Tasas Periodo  \\\n",
       "0  Ambos sexos       Total Nacional    Tasa de paro de la población  2020T4   \n",
       "1  Ambos sexos       Total Nacional  Tasa de empleo de la población  2020T4   \n",
       "2  Ambos sexos          02 Albacete    Tasa de paro de la población  2020T4   \n",
       "3  Ambos sexos          02 Albacete  Tasa de empleo de la población  2020T4   \n",
       "4  Ambos sexos  03 Alicante/Alacant    Tasa de paro de la población  2020T4   \n",
       "\n",
       "   Total  \n",
       "0  16,13  \n",
       "1  48,81  \n",
       "2  17,44  \n",
       "3  48,63  \n",
       "4  19,41  "
      ]
     },
     "execution_count": 4,
     "metadata": {},
     "output_type": "execute_result"
    }
   ],
   "source": [
    "tasas.head()"
   ]
  },
  {
   "cell_type": "code",
   "execution_count": 5,
   "metadata": {},
   "outputs": [
    {
     "data": {
      "text/plain": [
       "Index(['Sexo', 'Provincias', 'Tasas', 'Periodo', 'Total'], dtype='object')"
      ]
     },
     "execution_count": 5,
     "metadata": {},
     "output_type": "execute_result"
    }
   ],
   "source": [
    "tasas.columns"
   ]
  },
  {
   "cell_type": "code",
   "execution_count": 6,
   "metadata": {},
   "outputs": [
    {
     "data": {
      "text/plain": [
       "Sexo          object\n",
       "Provincias    object\n",
       "Tasas         object\n",
       "Periodo       object\n",
       "Total         object\n",
       "dtype: object"
      ]
     },
     "execution_count": 6,
     "metadata": {},
     "output_type": "execute_result"
    }
   ],
   "source": [
    "tasas.dtypes"
   ]
  },
  {
   "cell_type": "markdown",
   "metadata": {},
   "source": [
    "## 3. Cleaning database"
   ]
  },
  {
   "cell_type": "markdown",
   "metadata": {},
   "source": [
    "### 3.1. Renaming information content of an specific column."
   ]
  },
  {
   "cell_type": "code",
   "execution_count": 7,
   "metadata": {},
   "outputs": [
    {
     "data": {
      "text/plain": [
       "Paro      53\n",
       "Empleo    53\n",
       "Name: Tasas, dtype: int64"
      ]
     },
     "execution_count": 7,
     "metadata": {},
     "output_type": "execute_result"
    }
   ],
   "source": [
    "tasas.loc[tasas[\"Tasas\"] == \"Tasa de paro de la población\", \"Tasas\"] = \"Paro\"\n",
    "tasas.loc[tasas[\"Tasas\"] == \"Tasa de empleo de la población\", \"Tasas\"] = \"Empleo\"\n",
    "tasas[\"Tasas\"].value_counts()"
   ]
  },
  {
   "cell_type": "markdown",
   "metadata": {},
   "source": [
    "### 3.2. Spliting information conent in column named \"Provincias\"."
   ]
  },
  {
   "cell_type": "code",
   "execution_count": 8,
   "metadata": {},
   "outputs": [],
   "source": [
    "provincias = tasas[\"Provincias\"].str.split(\" \", n = 1, expand = True)"
   ]
  },
  {
   "cell_type": "code",
   "execution_count": 9,
   "metadata": {},
   "outputs": [],
   "source": [
    "tasas[\"Provincias\"] = provincias[1]"
   ]
  },
  {
   "cell_type": "code",
   "execution_count": 10,
   "metadata": {},
   "outputs": [
    {
     "data": {
      "text/plain": [
       "array(['Nacional', 'Albacete', 'Alicante/Alacant', 'Almería',\n",
       "       'Araba/Álava', 'Asturias', 'Ávila', 'Badajoz', 'Balears, Illes',\n",
       "       'Barcelona', 'Bizkaia', 'Burgos', 'Cáceres', 'Cádiz', 'Cantabria',\n",
       "       'Castellón/Castelló', 'Ciudad Real', 'Córdoba', 'Coruña, A',\n",
       "       'Cuenca', 'Gipuzkoa', 'Girona', 'Granada', 'Guadalajara', 'Huelva',\n",
       "       'Huesca', 'Jaén', 'León', 'Lleida', 'Lugo', 'Madrid', 'Málaga',\n",
       "       'Murcia', 'Navarra', 'Ourense', 'Palencia', 'Palmas, Las',\n",
       "       'Pontevedra', 'Rioja, La', 'Salamanca', 'Santa Cruz de Tenerife',\n",
       "       'Segovia', 'Sevilla', 'Soria', 'Tarragona', 'Teruel', 'Toledo',\n",
       "       'Valencia/València', 'Valladolid', 'Zamora', 'Zaragoza', 'Ceuta',\n",
       "       'Melilla'], dtype=object)"
      ]
     },
     "execution_count": 10,
     "metadata": {},
     "output_type": "execute_result"
    }
   ],
   "source": [
    "tasas[\"Provincias\"].unique()"
   ]
  },
  {
   "cell_type": "markdown",
   "metadata": {},
   "source": [
    "### 3.3. Replacing values."
   ]
  },
  {
   "cell_type": "markdown",
   "metadata": {},
   "source": [
    "#### 3.3.1. Replacing vowels"
   ]
  },
  {
   "cell_type": "code",
   "execution_count": 11,
   "metadata": {},
   "outputs": [],
   "source": [
    "def normalize(s):\n",
    "# Function to replace vowels accented by the same unaccented vowels.\n",
    "\n",
    "    replacements = (\n",
    "        (\"á\", \"a\"),\n",
    "        (\"é\", \"e\"),\n",
    "        (\"í\", \"i\"),\n",
    "        (\"ó\", \"o\"),\n",
    "        (\"ú\", \"u\")\n",
    "    )\n",
    "    for a, b in replacements:\n",
    "        s = s.replace(a, b).replace(a.upper(), b.upper())\n",
    "    return s"
   ]
  },
  {
   "cell_type": "code",
   "execution_count": 12,
   "metadata": {},
   "outputs": [],
   "source": [
    "tasas[\"Provincias\"] = tasas[\"Provincias\"].apply(normalize)"
   ]
  },
  {
   "cell_type": "markdown",
   "metadata": {},
   "source": [
    "#### 3.3.2. Replacingthe names of the provinces with the names that appear in the restaurants' database"
   ]
  },
  {
   "cell_type": "code",
   "execution_count": 13,
   "metadata": {},
   "outputs": [],
   "source": [
    "tasas.loc[tasas[\"Provincias\"] == \"Alicante/Alacant\", \"Provincias\"] = \"Alicante\"\n",
    "tasas.loc[tasas[\"Provincias\"] == \"Coruña, A\", \"Provincias\"] = \"La Coruna\"\n",
    "tasas.loc[tasas[\"Provincias\"] == \"Rioja, La\", \"Provincias\"] = \"La Rioja\"\n",
    "tasas.loc[tasas[\"Provincias\"] == \"Bizkaia\", \"Provincias\"] = \"Vizcaya\"\n",
    "tasas.loc[tasas[\"Provincias\"] == \"Araba/Alava\", \"Provincias\"] = \"Alava\"\n",
    "tasas.loc[tasas[\"Provincias\"] == \"Castellon/Castello\", \"Provincias\"] = \"Castellon\"\n",
    "tasas.loc[tasas[\"Provincias\"] == \"Lleida\", \"Provincias\"] = \"Lerida\"\n",
    "tasas.loc[tasas[\"Provincias\"] == \"Gipuzkoa\", \"Provincias\"] = \"Guipuzcua\"\n",
    "tasas.loc[tasas[\"Provincias\"] == \"Girona\", \"Provincias\"] = \"Gerona\""
   ]
  },
  {
   "cell_type": "code",
   "execution_count": 14,
   "metadata": {},
   "outputs": [
    {
     "data": {
      "text/plain": [
       "array(['Nacional', 'Albacete', 'Alicante', 'Almeria', 'Alava', 'Asturias',\n",
       "       'Avila', 'Badajoz', 'Balears, Illes', 'Barcelona', 'Vizcaya',\n",
       "       'Burgos', 'Caceres', 'Cadiz', 'Cantabria', 'Castellon',\n",
       "       'Ciudad Real', 'Cordoba', 'La Coruna', 'Cuenca', 'Guipuzcua',\n",
       "       'Gerona', 'Granada', 'Guadalajara', 'Huelva', 'Huesca', 'Jaen',\n",
       "       'Leon', 'Lerida', 'Lugo', 'Madrid', 'Malaga', 'Murcia', 'Navarra',\n",
       "       'Ourense', 'Palencia', 'Palmas, Las', 'Pontevedra', 'La Rioja',\n",
       "       'Salamanca', 'Santa Cruz de Tenerife', 'Segovia', 'Sevilla',\n",
       "       'Soria', 'Tarragona', 'Teruel', 'Toledo', 'Valencia/València',\n",
       "       'Valladolid', 'Zamora', 'Zaragoza', 'Ceuta', 'Melilla'],\n",
       "      dtype=object)"
      ]
     },
     "execution_count": 14,
     "metadata": {},
     "output_type": "execute_result"
    }
   ],
   "source": [
    "tasas.Provincias.unique()"
   ]
  },
  {
   "cell_type": "markdown",
   "metadata": {},
   "source": [
    "## 4. Exporting cleaning data"
   ]
  },
  {
   "cell_type": "code",
   "execution_count": 15,
   "metadata": {},
   "outputs": [],
   "source": [
    "tasas = tasas.reset_index(drop = True)"
   ]
  },
  {
   "cell_type": "code",
   "execution_count": 16,
   "metadata": {},
   "outputs": [
    {
     "data": {
      "text/html": [
       "<div>\n",
       "<style scoped>\n",
       "    .dataframe tbody tr th:only-of-type {\n",
       "        vertical-align: middle;\n",
       "    }\n",
       "\n",
       "    .dataframe tbody tr th {\n",
       "        vertical-align: top;\n",
       "    }\n",
       "\n",
       "    .dataframe thead th {\n",
       "        text-align: right;\n",
       "    }\n",
       "</style>\n",
       "<table border=\"1\" class=\"dataframe\">\n",
       "  <thead>\n",
       "    <tr style=\"text-align: right;\">\n",
       "      <th></th>\n",
       "      <th>Sexo</th>\n",
       "      <th>Provincias</th>\n",
       "      <th>Tasas</th>\n",
       "      <th>Periodo</th>\n",
       "      <th>Total</th>\n",
       "    </tr>\n",
       "  </thead>\n",
       "  <tbody>\n",
       "    <tr>\n",
       "      <th>0</th>\n",
       "      <td>Ambos sexos</td>\n",
       "      <td>Nacional</td>\n",
       "      <td>Paro</td>\n",
       "      <td>2020T4</td>\n",
       "      <td>16,13</td>\n",
       "    </tr>\n",
       "    <tr>\n",
       "      <th>1</th>\n",
       "      <td>Ambos sexos</td>\n",
       "      <td>Nacional</td>\n",
       "      <td>Empleo</td>\n",
       "      <td>2020T4</td>\n",
       "      <td>48,81</td>\n",
       "    </tr>\n",
       "    <tr>\n",
       "      <th>2</th>\n",
       "      <td>Ambos sexos</td>\n",
       "      <td>Albacete</td>\n",
       "      <td>Paro</td>\n",
       "      <td>2020T4</td>\n",
       "      <td>17,44</td>\n",
       "    </tr>\n",
       "    <tr>\n",
       "      <th>3</th>\n",
       "      <td>Ambos sexos</td>\n",
       "      <td>Albacete</td>\n",
       "      <td>Empleo</td>\n",
       "      <td>2020T4</td>\n",
       "      <td>48,63</td>\n",
       "    </tr>\n",
       "    <tr>\n",
       "      <th>4</th>\n",
       "      <td>Ambos sexos</td>\n",
       "      <td>Alicante</td>\n",
       "      <td>Paro</td>\n",
       "      <td>2020T4</td>\n",
       "      <td>19,41</td>\n",
       "    </tr>\n",
       "  </tbody>\n",
       "</table>\n",
       "</div>"
      ],
      "text/plain": [
       "          Sexo Provincias   Tasas Periodo  Total\n",
       "0  Ambos sexos   Nacional    Paro  2020T4  16,13\n",
       "1  Ambos sexos   Nacional  Empleo  2020T4  48,81\n",
       "2  Ambos sexos   Albacete    Paro  2020T4  17,44\n",
       "3  Ambos sexos   Albacete  Empleo  2020T4  48,63\n",
       "4  Ambos sexos   Alicante    Paro  2020T4  19,41"
      ]
     },
     "execution_count": 16,
     "metadata": {},
     "output_type": "execute_result"
    }
   ],
   "source": [
    "tasas.head()"
   ]
  },
  {
   "cell_type": "code",
   "execution_count": 17,
   "metadata": {},
   "outputs": [],
   "source": [
    "tasas.to_csv(\"../output/tasas.csv\", index = False)"
   ]
  }
 ],
 "metadata": {
  "kernelspec": {
   "display_name": "Python 3",
   "language": "python",
   "name": "python3"
  },
  "language_info": {
   "codemirror_mode": {
    "name": "ipython",
    "version": 3
   },
   "file_extension": ".py",
   "mimetype": "text/x-python",
   "name": "python",
   "nbconvert_exporter": "python",
   "pygments_lexer": "ipython3",
   "version": "3.9.1"
  }
 },
 "nbformat": 4,
 "nbformat_minor": 4
}
