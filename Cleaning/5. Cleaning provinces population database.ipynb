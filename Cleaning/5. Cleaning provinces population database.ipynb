{
 "cells": [
  {
   "cell_type": "markdown",
   "metadata": {},
   "source": [
    "# In this fourth cleaning notebook, I proceed with the cleaning of Spanish 2020 population database."
   ]
  },
  {
   "cell_type": "markdown",
   "metadata": {},
   "source": [
    "## 1. Importing libraries that are used."
   ]
  },
  {
   "cell_type": "code",
   "execution_count": 1,
   "metadata": {},
   "outputs": [],
   "source": [
    "import pandas as pd\n",
    "import numpy as np\n",
    "import sys\n",
    "sys.path.insert(0, '../src')\n",
    "import unittest\n",
    "from call import *"
   ]
  },
  {
   "cell_type": "markdown",
   "metadata": {},
   "source": [
    "## 2. Importing database and data exploration"
   ]
  },
  {
   "cell_type": "code",
   "execution_count": 2,
   "metadata": {},
   "outputs": [],
   "source": [
    "population2020 = pd.read_csv(\"../data/population.csv\", encoding = \"ISO-8859-1\",sep = (\";\"), engine='python', error_bad_lines=False, warn_bad_lines=False)"
   ]
  },
  {
   "cell_type": "code",
   "execution_count": 3,
   "metadata": {},
   "outputs": [
    {
     "data": {
      "text/plain": [
       "(52, 5)"
      ]
     },
     "execution_count": 3,
     "metadata": {},
     "output_type": "execute_result"
    }
   ],
   "source": [
    "population2020.shape"
   ]
  },
  {
   "cell_type": "code",
   "execution_count": 4,
   "metadata": {},
   "outputs": [
    {
     "data": {
      "text/html": [
       "<div>\n",
       "<style scoped>\n",
       "    .dataframe tbody tr th:only-of-type {\n",
       "        vertical-align: middle;\n",
       "    }\n",
       "\n",
       "    .dataframe tbody tr th {\n",
       "        vertical-align: top;\n",
       "    }\n",
       "\n",
       "    .dataframe thead th {\n",
       "        text-align: right;\n",
       "    }\n",
       "</style>\n",
       "<table border=\"1\" class=\"dataframe\">\n",
       "  <thead>\n",
       "    <tr style=\"text-align: right;\">\n",
       "      <th></th>\n",
       "      <th>Provincias</th>\n",
       "      <th>Region</th>\n",
       "      <th>Sexo</th>\n",
       "      <th>Periodo</th>\n",
       "      <th>Total</th>\n",
       "    </tr>\n",
       "  </thead>\n",
       "  <tbody>\n",
       "    <tr>\n",
       "      <th>0</th>\n",
       "      <td>Albacete</td>\n",
       "      <td>Castilla la Mancha</td>\n",
       "      <td>Total</td>\n",
       "      <td>2020</td>\n",
       "      <td>388.270</td>\n",
       "    </tr>\n",
       "    <tr>\n",
       "      <th>1</th>\n",
       "      <td>Alicante</td>\n",
       "      <td>C.Valenciana</td>\n",
       "      <td>Total</td>\n",
       "      <td>2020</td>\n",
       "      <td>1.879.888</td>\n",
       "    </tr>\n",
       "    <tr>\n",
       "      <th>2</th>\n",
       "      <td>Almeria</td>\n",
       "      <td>Andalucia</td>\n",
       "      <td>Total</td>\n",
       "      <td>2020</td>\n",
       "      <td>727.945</td>\n",
       "    </tr>\n",
       "    <tr>\n",
       "      <th>3</th>\n",
       "      <td>Alava</td>\n",
       "      <td>Pais Vasco</td>\n",
       "      <td>Total</td>\n",
       "      <td>2020</td>\n",
       "      <td>333.940</td>\n",
       "    </tr>\n",
       "    <tr>\n",
       "      <th>4</th>\n",
       "      <td>Asturias</td>\n",
       "      <td>Asturias</td>\n",
       "      <td>Total</td>\n",
       "      <td>2020</td>\n",
       "      <td>1.018.784</td>\n",
       "    </tr>\n",
       "  </tbody>\n",
       "</table>\n",
       "</div>"
      ],
      "text/plain": [
       "  Provincias              Region   Sexo  Periodo      Total\n",
       "0   Albacete  Castilla la Mancha  Total     2020    388.270\n",
       "1   Alicante        C.Valenciana  Total     2020  1.879.888\n",
       "2    Almeria           Andalucia  Total     2020    727.945\n",
       "3      Alava          Pais Vasco  Total     2020    333.940\n",
       "4   Asturias            Asturias  Total     2020  1.018.784"
      ]
     },
     "execution_count": 4,
     "metadata": {},
     "output_type": "execute_result"
    }
   ],
   "source": [
    "population2020.head()"
   ]
  },
  {
   "cell_type": "code",
   "execution_count": 5,
   "metadata": {},
   "outputs": [
    {
     "data": {
      "text/plain": [
       "Index(['Provincias', 'Region', 'Sexo', 'Periodo', 'Total'], dtype='object')"
      ]
     },
     "execution_count": 5,
     "metadata": {},
     "output_type": "execute_result"
    }
   ],
   "source": [
    "population2020.columns"
   ]
  },
  {
   "cell_type": "code",
   "execution_count": 6,
   "metadata": {},
   "outputs": [
    {
     "data": {
      "text/plain": [
       "Provincias    object\n",
       "Region        object\n",
       "Sexo          object\n",
       "Periodo        int64\n",
       "Total         object\n",
       "dtype: object"
      ]
     },
     "execution_count": 6,
     "metadata": {},
     "output_type": "execute_result"
    }
   ],
   "source": [
    "population2020.dtypes"
   ]
  },
  {
   "cell_type": "markdown",
   "metadata": {},
   "source": [
    "## 3. Cleaning data"
   ]
  },
  {
   "cell_type": "markdown",
   "metadata": {},
   "source": [
    "### 3.1. Replacing values"
   ]
  },
  {
   "cell_type": "code",
   "execution_count": 7,
   "metadata": {},
   "outputs": [],
   "source": [
    "population2020.loc[population2020[\"Provincias\"] == \"Alicante/Alacant\", \"Provincias\"] = \"Alicante\"\n",
    "population2020.loc[population2020[\"Provincias\"] == \"Coruña, A\", \"Provincias\"] = \"La Coruna\"\n",
    "population2020.loc[population2020[\"Provincias\"] == \"Rioja, La\", \"Provincias\"] = \"La Rioja\"\n",
    "population2020.loc[population2020[\"Provincias\"] == \"Bizkaia\", \"Provincias\"] = \"Vizcaya\"\n",
    "population2020.loc[population2020[\"Provincias\"] == \"Araba/Alava\", \"Provincias\"] = \"Alava\"\n",
    "population2020.loc[population2020[\"Provincias\"] == \"Castellon/Castello\", \"Provincias\"] = \"Castellon\"\n",
    "population2020.loc[population2020[\"Provincias\"] == \"Lleida\", \"Provincias\"] = \"Lerida\"\n",
    "population2020.loc[population2020[\"Provincias\"] == \"Gipuzkoa\", \"Provincias\"] = \"Guipuzcua\"\n",
    "population2020.loc[population2020[\"Provincias\"] == \"Girona\", \"Provincias\"] = \"Gerona\"\n",
    "population2020.loc[population2020[\"Provincias\"] == \"Palmas, Las\", \"Provincias\"] = \"Las Palmas\""
   ]
  },
  {
   "cell_type": "code",
   "execution_count": 8,
   "metadata": {},
   "outputs": [
    {
     "data": {
      "text/plain": [
       "array(['Albacete', 'Alicante', 'Almeria', 'Alava', 'Asturias', 'Avila',\n",
       "       'Badajoz', 'Islas Baleares', 'Barcelona', 'Vizcaya', 'Burgos',\n",
       "       'Caceres', 'Cadiz', 'Cantabria', 'Castellon', 'Ciudad Real',\n",
       "       'Cordoba', 'La Coruna', 'Cuenca', 'Guipuzcua', 'Gerona', 'Granada',\n",
       "       'Guadalajara', 'Huelva', 'Huesca', 'Jaen', 'Leon', 'Lerida',\n",
       "       'Lugo', 'Madrid', 'Malaga', 'Murcia', 'Navarra', 'Ourense',\n",
       "       'Palencia', 'Las Palmas', 'Pontevedra', 'La Rioja', 'Salamanca',\n",
       "       'Santa Cruz de Tenerife', 'Segovia', 'Sevilla', 'Soria',\n",
       "       'Tarragona', 'Teruel', 'Toledo', 'Valencia', 'Valladolid',\n",
       "       'Zamora', 'Zaragoza', 'Ceuta', 'Melilla'], dtype=object)"
      ]
     },
     "execution_count": 8,
     "metadata": {},
     "output_type": "execute_result"
    }
   ],
   "source": [
    "population2020.Provincias.unique()"
   ]
  },
  {
   "cell_type": "markdown",
   "metadata": {},
   "source": [
    "### 3.2. Renaming column"
   ]
  },
  {
   "cell_type": "code",
   "execution_count": 9,
   "metadata": {},
   "outputs": [],
   "source": [
    "population2020 = population2020.rename(columns={'Total': 'Population'})"
   ]
  },
  {
   "cell_type": "markdown",
   "metadata": {},
   "source": [
    "### 3.3. Converting values from object to float"
   ]
  },
  {
   "cell_type": "code",
   "execution_count": 10,
   "metadata": {},
   "outputs": [],
   "source": [
    "population2020['Population'] = population2020['Population'].apply(lambda x: convert_str(x))"
   ]
  },
  {
   "cell_type": "code",
   "execution_count": 11,
   "metadata": {},
   "outputs": [
    {
     "data": {
      "text/html": [
       "<div>\n",
       "<style scoped>\n",
       "    .dataframe tbody tr th:only-of-type {\n",
       "        vertical-align: middle;\n",
       "    }\n",
       "\n",
       "    .dataframe tbody tr th {\n",
       "        vertical-align: top;\n",
       "    }\n",
       "\n",
       "    .dataframe thead th {\n",
       "        text-align: right;\n",
       "    }\n",
       "</style>\n",
       "<table border=\"1\" class=\"dataframe\">\n",
       "  <thead>\n",
       "    <tr style=\"text-align: right;\">\n",
       "      <th></th>\n",
       "      <th>Provincias</th>\n",
       "      <th>Region</th>\n",
       "      <th>Sexo</th>\n",
       "      <th>Periodo</th>\n",
       "      <th>Population</th>\n",
       "    </tr>\n",
       "  </thead>\n",
       "  <tbody>\n",
       "    <tr>\n",
       "      <th>0</th>\n",
       "      <td>Albacete</td>\n",
       "      <td>Castilla la Mancha</td>\n",
       "      <td>Total</td>\n",
       "      <td>2020</td>\n",
       "      <td>388270.0</td>\n",
       "    </tr>\n",
       "    <tr>\n",
       "      <th>1</th>\n",
       "      <td>Alicante</td>\n",
       "      <td>C.Valenciana</td>\n",
       "      <td>Total</td>\n",
       "      <td>2020</td>\n",
       "      <td>1879888.0</td>\n",
       "    </tr>\n",
       "    <tr>\n",
       "      <th>2</th>\n",
       "      <td>Almeria</td>\n",
       "      <td>Andalucia</td>\n",
       "      <td>Total</td>\n",
       "      <td>2020</td>\n",
       "      <td>727945.0</td>\n",
       "    </tr>\n",
       "    <tr>\n",
       "      <th>3</th>\n",
       "      <td>Alava</td>\n",
       "      <td>Pais Vasco</td>\n",
       "      <td>Total</td>\n",
       "      <td>2020</td>\n",
       "      <td>333940.0</td>\n",
       "    </tr>\n",
       "    <tr>\n",
       "      <th>4</th>\n",
       "      <td>Asturias</td>\n",
       "      <td>Asturias</td>\n",
       "      <td>Total</td>\n",
       "      <td>2020</td>\n",
       "      <td>1018784.0</td>\n",
       "    </tr>\n",
       "  </tbody>\n",
       "</table>\n",
       "</div>"
      ],
      "text/plain": [
       "  Provincias              Region   Sexo  Periodo  Population\n",
       "0   Albacete  Castilla la Mancha  Total     2020    388270.0\n",
       "1   Alicante        C.Valenciana  Total     2020   1879888.0\n",
       "2    Almeria           Andalucia  Total     2020    727945.0\n",
       "3      Alava          Pais Vasco  Total     2020    333940.0\n",
       "4   Asturias            Asturias  Total     2020   1018784.0"
      ]
     },
     "execution_count": 11,
     "metadata": {},
     "output_type": "execute_result"
    }
   ],
   "source": [
    "population2020.head()"
   ]
  },
  {
   "cell_type": "markdown",
   "metadata": {},
   "source": [
    "## 4. Joining databases"
   ]
  },
  {
   "cell_type": "markdown",
   "metadata": {},
   "source": [
    "### 4.1. Uploading dabases we want to join"
   ]
  },
  {
   "cell_type": "code",
   "execution_count": 12,
   "metadata": {},
   "outputs": [],
   "source": [
    "employment = pd.read_csv(\"../output/employment.csv\", encoding = \"ISO-8859-1\")\n",
    "unemployment = pd.read_csv(\"../output/unemployment.csv\", encoding = \"ISO-8859-1\")"
   ]
  },
  {
   "cell_type": "markdown",
   "metadata": {},
   "source": [
    "### 4.2. Concatenating dataframes"
   ]
  },
  {
   "cell_type": "code",
   "execution_count": 13,
   "metadata": {},
   "outputs": [
    {
     "data": {
      "text/html": [
       "<div>\n",
       "<style scoped>\n",
       "    .dataframe tbody tr th:only-of-type {\n",
       "        vertical-align: middle;\n",
       "    }\n",
       "\n",
       "    .dataframe tbody tr th {\n",
       "        vertical-align: top;\n",
       "    }\n",
       "\n",
       "    .dataframe thead th {\n",
       "        text-align: right;\n",
       "    }\n",
       "</style>\n",
       "<table border=\"1\" class=\"dataframe\">\n",
       "  <thead>\n",
       "    <tr style=\"text-align: right;\">\n",
       "      <th></th>\n",
       "      <th>Provincias</th>\n",
       "      <th>Region</th>\n",
       "      <th>Sexo</th>\n",
       "      <th>Periodo</th>\n",
       "      <th>Population</th>\n",
       "      <th>Provincias</th>\n",
       "      <th>Employment rate</th>\n",
       "      <th>Provincias</th>\n",
       "      <th>Unemployment rate</th>\n",
       "    </tr>\n",
       "  </thead>\n",
       "  <tbody>\n",
       "    <tr>\n",
       "      <th>0</th>\n",
       "      <td>Albacete</td>\n",
       "      <td>Castilla la Mancha</td>\n",
       "      <td>Total</td>\n",
       "      <td>2020.0</td>\n",
       "      <td>388270.0</td>\n",
       "      <td>Nacional</td>\n",
       "      <td>48.81</td>\n",
       "      <td>Nacional</td>\n",
       "      <td>16.13</td>\n",
       "    </tr>\n",
       "    <tr>\n",
       "      <th>1</th>\n",
       "      <td>Alicante</td>\n",
       "      <td>C.Valenciana</td>\n",
       "      <td>Total</td>\n",
       "      <td>2020.0</td>\n",
       "      <td>1879888.0</td>\n",
       "      <td>Albacete</td>\n",
       "      <td>48.63</td>\n",
       "      <td>Albacete</td>\n",
       "      <td>17.44</td>\n",
       "    </tr>\n",
       "    <tr>\n",
       "      <th>2</th>\n",
       "      <td>Almeria</td>\n",
       "      <td>Andalucia</td>\n",
       "      <td>Total</td>\n",
       "      <td>2020.0</td>\n",
       "      <td>727945.0</td>\n",
       "      <td>Alicante</td>\n",
       "      <td>45.92</td>\n",
       "      <td>Alicante</td>\n",
       "      <td>19.41</td>\n",
       "    </tr>\n",
       "    <tr>\n",
       "      <th>3</th>\n",
       "      <td>Alava</td>\n",
       "      <td>Pais Vasco</td>\n",
       "      <td>Total</td>\n",
       "      <td>2020.0</td>\n",
       "      <td>333940.0</td>\n",
       "      <td>Almeria</td>\n",
       "      <td>47.09</td>\n",
       "      <td>Almeria</td>\n",
       "      <td>21.15</td>\n",
       "    </tr>\n",
       "    <tr>\n",
       "      <th>4</th>\n",
       "      <td>Asturias</td>\n",
       "      <td>Asturias</td>\n",
       "      <td>Total</td>\n",
       "      <td>2020.0</td>\n",
       "      <td>1018784.0</td>\n",
       "      <td>Alava</td>\n",
       "      <td>49.60</td>\n",
       "      <td>Alava</td>\n",
       "      <td>9.99</td>\n",
       "    </tr>\n",
       "    <tr>\n",
       "      <th>5</th>\n",
       "      <td>Avila</td>\n",
       "      <td>Castilla y Leon</td>\n",
       "      <td>Total</td>\n",
       "      <td>2020.0</td>\n",
       "      <td>157664.0</td>\n",
       "      <td>Asturias</td>\n",
       "      <td>43.41</td>\n",
       "      <td>Asturias</td>\n",
       "      <td>13.50</td>\n",
       "    </tr>\n",
       "    <tr>\n",
       "      <th>6</th>\n",
       "      <td>Badajoz</td>\n",
       "      <td>Extremadura</td>\n",
       "      <td>Total</td>\n",
       "      <td>2020.0</td>\n",
       "      <td>672137.0</td>\n",
       "      <td>Avila</td>\n",
       "      <td>46.69</td>\n",
       "      <td>Avila</td>\n",
       "      <td>16.06</td>\n",
       "    </tr>\n",
       "  </tbody>\n",
       "</table>\n",
       "</div>"
      ],
      "text/plain": [
       "  Provincias              Region   Sexo  Periodo  Population Provincias  \\\n",
       "0   Albacete  Castilla la Mancha  Total   2020.0    388270.0   Nacional   \n",
       "1   Alicante        C.Valenciana  Total   2020.0   1879888.0   Albacete   \n",
       "2    Almeria           Andalucia  Total   2020.0    727945.0   Alicante   \n",
       "3      Alava          Pais Vasco  Total   2020.0    333940.0    Almeria   \n",
       "4   Asturias            Asturias  Total   2020.0   1018784.0      Alava   \n",
       "5      Avila     Castilla y Leon  Total   2020.0    157664.0   Asturias   \n",
       "6    Badajoz         Extremadura  Total   2020.0    672137.0      Avila   \n",
       "\n",
       "   Employment rate Provincias  Unemployment rate  \n",
       "0            48.81   Nacional              16.13  \n",
       "1            48.63   Albacete              17.44  \n",
       "2            45.92   Alicante              19.41  \n",
       "3            47.09    Almeria              21.15  \n",
       "4            49.60      Alava               9.99  \n",
       "5            43.41   Asturias              13.50  \n",
       "6            46.69      Avila              16.06  "
      ]
     },
     "execution_count": 13,
     "metadata": {},
     "output_type": "execute_result"
    }
   ],
   "source": [
    "province_data = pd.concat([population2020,employment,unemployment], axis=1)\n",
    "province_data[:7]"
   ]
  },
  {
   "cell_type": "markdown",
   "metadata": {},
   "source": [
    "### 4.3. Deleting duplicated columns"
   ]
  },
  {
   "cell_type": "code",
   "execution_count": 14,
   "metadata": {},
   "outputs": [],
   "source": [
    "province_data = province_data.loc[:,~province_data.columns.duplicated(keep = 'first')]"
   ]
  },
  {
   "cell_type": "code",
   "execution_count": 15,
   "metadata": {},
   "outputs": [
    {
     "data": {
      "text/html": [
       "<div>\n",
       "<style scoped>\n",
       "    .dataframe tbody tr th:only-of-type {\n",
       "        vertical-align: middle;\n",
       "    }\n",
       "\n",
       "    .dataframe tbody tr th {\n",
       "        vertical-align: top;\n",
       "    }\n",
       "\n",
       "    .dataframe thead th {\n",
       "        text-align: right;\n",
       "    }\n",
       "</style>\n",
       "<table border=\"1\" class=\"dataframe\">\n",
       "  <thead>\n",
       "    <tr style=\"text-align: right;\">\n",
       "      <th></th>\n",
       "      <th>Provincias</th>\n",
       "      <th>Region</th>\n",
       "      <th>Sexo</th>\n",
       "      <th>Periodo</th>\n",
       "      <th>Population</th>\n",
       "      <th>Employment rate</th>\n",
       "      <th>Unemployment rate</th>\n",
       "    </tr>\n",
       "  </thead>\n",
       "  <tbody>\n",
       "    <tr>\n",
       "      <th>0</th>\n",
       "      <td>Albacete</td>\n",
       "      <td>Castilla la Mancha</td>\n",
       "      <td>Total</td>\n",
       "      <td>2020.0</td>\n",
       "      <td>388270.0</td>\n",
       "      <td>48.81</td>\n",
       "      <td>16.13</td>\n",
       "    </tr>\n",
       "    <tr>\n",
       "      <th>1</th>\n",
       "      <td>Alicante</td>\n",
       "      <td>C.Valenciana</td>\n",
       "      <td>Total</td>\n",
       "      <td>2020.0</td>\n",
       "      <td>1879888.0</td>\n",
       "      <td>48.63</td>\n",
       "      <td>17.44</td>\n",
       "    </tr>\n",
       "    <tr>\n",
       "      <th>2</th>\n",
       "      <td>Almeria</td>\n",
       "      <td>Andalucia</td>\n",
       "      <td>Total</td>\n",
       "      <td>2020.0</td>\n",
       "      <td>727945.0</td>\n",
       "      <td>45.92</td>\n",
       "      <td>19.41</td>\n",
       "    </tr>\n",
       "    <tr>\n",
       "      <th>3</th>\n",
       "      <td>Alava</td>\n",
       "      <td>Pais Vasco</td>\n",
       "      <td>Total</td>\n",
       "      <td>2020.0</td>\n",
       "      <td>333940.0</td>\n",
       "      <td>47.09</td>\n",
       "      <td>21.15</td>\n",
       "    </tr>\n",
       "    <tr>\n",
       "      <th>4</th>\n",
       "      <td>Asturias</td>\n",
       "      <td>Asturias</td>\n",
       "      <td>Total</td>\n",
       "      <td>2020.0</td>\n",
       "      <td>1018784.0</td>\n",
       "      <td>49.60</td>\n",
       "      <td>9.99</td>\n",
       "    </tr>\n",
       "  </tbody>\n",
       "</table>\n",
       "</div>"
      ],
      "text/plain": [
       "  Provincias              Region   Sexo  Periodo  Population  Employment rate  \\\n",
       "0   Albacete  Castilla la Mancha  Total   2020.0    388270.0            48.81   \n",
       "1   Alicante        C.Valenciana  Total   2020.0   1879888.0            48.63   \n",
       "2    Almeria           Andalucia  Total   2020.0    727945.0            45.92   \n",
       "3      Alava          Pais Vasco  Total   2020.0    333940.0            47.09   \n",
       "4   Asturias            Asturias  Total   2020.0   1018784.0            49.60   \n",
       "\n",
       "   Unemployment rate  \n",
       "0              16.13  \n",
       "1              17.44  \n",
       "2              19.41  \n",
       "3              21.15  \n",
       "4               9.99  "
      ]
     },
     "execution_count": 15,
     "metadata": {},
     "output_type": "execute_result"
    }
   ],
   "source": [
    "province_data.head()"
   ]
  },
  {
   "cell_type": "code",
   "execution_count": 16,
   "metadata": {},
   "outputs": [
    {
     "data": {
      "text/plain": [
       "Provincias            object\n",
       "Region                object\n",
       "Sexo                  object\n",
       "Periodo              float64\n",
       "Population           float64\n",
       "Employment rate      float64\n",
       "Unemployment rate    float64\n",
       "dtype: object"
      ]
     },
     "execution_count": 16,
     "metadata": {},
     "output_type": "execute_result"
    }
   ],
   "source": [
    "province_data.dtypes"
   ]
  },
  {
   "cell_type": "markdown",
   "metadata": {},
   "source": [
    "## 5. Exporting joined data."
   ]
  },
  {
   "cell_type": "code",
   "execution_count": 17,
   "metadata": {},
   "outputs": [],
   "source": [
    "province_data.to_csv(\"../output/province_data.csv\", index = False)"
   ]
  }
 ],
 "metadata": {
  "kernelspec": {
   "display_name": "Python 3",
   "language": "python",
   "name": "python3"
  },
  "language_info": {
   "codemirror_mode": {
    "name": "ipython",
    "version": 3
   },
   "file_extension": ".py",
   "mimetype": "text/x-python",
   "name": "python",
   "nbconvert_exporter": "python",
   "pygments_lexer": "ipython3",
   "version": "3.9.1"
  }
 },
 "nbformat": 4,
 "nbformat_minor": 4
}
