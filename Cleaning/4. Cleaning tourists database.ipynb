{
 "cells": [
  {
   "cell_type": "markdown",
   "metadata": {},
   "source": [
    "# In this notebook, I proceed with the cleaning Spanish tourism during 2019 database."
   ]
  },
  {
   "cell_type": "markdown",
   "metadata": {},
   "source": [
    "The database was obtained from [INE website](https://www.ine.es/)."
   ]
  },
  {
   "cell_type": "markdown",
   "metadata": {},
   "source": [
    "## 1. Importing libraries"
   ]
  },
  {
   "cell_type": "code",
   "execution_count": 1,
   "metadata": {},
   "outputs": [],
   "source": [
    "import pandas as pd\n",
    "import numpy as np\n",
    "import sys\n",
    "sys.path.insert(0, '../src')\n",
    "import unittest\n",
    "from call import *"
   ]
  },
  {
   "cell_type": "markdown",
   "metadata": {},
   "source": [
    "## 2. Importing database and data exploration"
   ]
  },
  {
   "cell_type": "code",
   "execution_count": 2,
   "metadata": {},
   "outputs": [],
   "source": [
    "tourists2019 = pd.read_csv(\"../data/tourists2019.csv\", encoding = \"ISO-8859-1\",sep = (\";\"), engine='python', error_bad_lines=False, warn_bad_lines=False)"
   ]
  },
  {
   "cell_type": "code",
   "execution_count": 3,
   "metadata": {},
   "outputs": [
    {
     "data": {
      "text/plain": [
       "(96, 4)"
      ]
     },
     "execution_count": 3,
     "metadata": {},
     "output_type": "execute_result"
    }
   ],
   "source": [
    "tourists2019.shape"
   ]
  },
  {
   "cell_type": "code",
   "execution_count": 4,
   "metadata": {},
   "outputs": [
    {
     "data": {
      "text/html": [
       "<div>\n",
       "<style scoped>\n",
       "    .dataframe tbody tr th:only-of-type {\n",
       "        vertical-align: middle;\n",
       "    }\n",
       "\n",
       "    .dataframe tbody tr th {\n",
       "        vertical-align: top;\n",
       "    }\n",
       "\n",
       "    .dataframe thead th {\n",
       "        text-align: right;\n",
       "    }\n",
       "</style>\n",
       "<table border=\"1\" class=\"dataframe\">\n",
       "  <thead>\n",
       "    <tr style=\"text-align: right;\">\n",
       "      <th></th>\n",
       "      <th>Comunidades autónomas</th>\n",
       "      <th>Tipo de dato</th>\n",
       "      <th>Periodo</th>\n",
       "      <th>Total</th>\n",
       "    </tr>\n",
       "  </thead>\n",
       "  <tbody>\n",
       "    <tr>\n",
       "      <th>0</th>\n",
       "      <td>00 Total</td>\n",
       "      <td>Dato base</td>\n",
       "      <td>2019M12</td>\n",
       "      <td>4.304.741</td>\n",
       "    </tr>\n",
       "    <tr>\n",
       "      <th>1</th>\n",
       "      <td>00 Total</td>\n",
       "      <td>Dato base</td>\n",
       "      <td>2019M11</td>\n",
       "      <td>4.655.021</td>\n",
       "    </tr>\n",
       "    <tr>\n",
       "      <th>2</th>\n",
       "      <td>00 Total</td>\n",
       "      <td>Dato base</td>\n",
       "      <td>2019M10</td>\n",
       "      <td>7.587.749</td>\n",
       "    </tr>\n",
       "    <tr>\n",
       "      <th>3</th>\n",
       "      <td>00 Total</td>\n",
       "      <td>Dato base</td>\n",
       "      <td>2019M09</td>\n",
       "      <td>8.845.152</td>\n",
       "    </tr>\n",
       "    <tr>\n",
       "      <th>4</th>\n",
       "      <td>00 Total</td>\n",
       "      <td>Dato base</td>\n",
       "      <td>2019M08</td>\n",
       "      <td>10.118.366</td>\n",
       "    </tr>\n",
       "  </tbody>\n",
       "</table>\n",
       "</div>"
      ],
      "text/plain": [
       "  Comunidades autónomas Tipo de dato  Periodo       Total\n",
       "0              00 Total    Dato base  2019M12   4.304.741\n",
       "1              00 Total    Dato base  2019M11   4.655.021\n",
       "2              00 Total    Dato base  2019M10   7.587.749\n",
       "3              00 Total    Dato base  2019M09   8.845.152\n",
       "4              00 Total    Dato base  2019M08  10.118.366"
      ]
     },
     "execution_count": 4,
     "metadata": {},
     "output_type": "execute_result"
    }
   ],
   "source": [
    "tourists2019.head()"
   ]
  },
  {
   "cell_type": "code",
   "execution_count": 5,
   "metadata": {},
   "outputs": [
    {
     "data": {
      "text/plain": [
       "Index(['Comunidades autónomas', 'Tipo de dato', 'Periodo', 'Total'], dtype='object')"
      ]
     },
     "execution_count": 5,
     "metadata": {},
     "output_type": "execute_result"
    }
   ],
   "source": [
    "tourists2019.columns"
   ]
  },
  {
   "cell_type": "code",
   "execution_count": 6,
   "metadata": {},
   "outputs": [
    {
     "data": {
      "text/plain": [
       "Comunidades autónomas    object\n",
       "Tipo de dato             object\n",
       "Periodo                  object\n",
       "Total                    object\n",
       "dtype: object"
      ]
     },
     "execution_count": 6,
     "metadata": {},
     "output_type": "execute_result"
    }
   ],
   "source": [
    "tourists2019.dtypes"
   ]
  },
  {
   "cell_type": "markdown",
   "metadata": {},
   "source": [
    "## 3. Cleaning database"
   ]
  },
  {
   "cell_type": "markdown",
   "metadata": {},
   "source": [
    "### 3.1. Renaming columns"
   ]
  },
  {
   "cell_type": "code",
   "execution_count": 7,
   "metadata": {},
   "outputs": [],
   "source": [
    "tourists2019 = tourists2019.rename(columns={'Comunidades autónomas': 'region'})"
   ]
  },
  {
   "cell_type": "code",
   "execution_count": 8,
   "metadata": {},
   "outputs": [
    {
     "data": {
      "text/html": [
       "<div>\n",
       "<style scoped>\n",
       "    .dataframe tbody tr th:only-of-type {\n",
       "        vertical-align: middle;\n",
       "    }\n",
       "\n",
       "    .dataframe tbody tr th {\n",
       "        vertical-align: top;\n",
       "    }\n",
       "\n",
       "    .dataframe thead th {\n",
       "        text-align: right;\n",
       "    }\n",
       "</style>\n",
       "<table border=\"1\" class=\"dataframe\">\n",
       "  <thead>\n",
       "    <tr style=\"text-align: right;\">\n",
       "      <th></th>\n",
       "      <th>region</th>\n",
       "      <th>Tipo de dato</th>\n",
       "      <th>Periodo</th>\n",
       "      <th>Total</th>\n",
       "    </tr>\n",
       "  </thead>\n",
       "  <tbody>\n",
       "    <tr>\n",
       "      <th>0</th>\n",
       "      <td>00 Total</td>\n",
       "      <td>Dato base</td>\n",
       "      <td>2019M12</td>\n",
       "      <td>4.304.741</td>\n",
       "    </tr>\n",
       "    <tr>\n",
       "      <th>1</th>\n",
       "      <td>00 Total</td>\n",
       "      <td>Dato base</td>\n",
       "      <td>2019M11</td>\n",
       "      <td>4.655.021</td>\n",
       "    </tr>\n",
       "    <tr>\n",
       "      <th>2</th>\n",
       "      <td>00 Total</td>\n",
       "      <td>Dato base</td>\n",
       "      <td>2019M10</td>\n",
       "      <td>7.587.749</td>\n",
       "    </tr>\n",
       "    <tr>\n",
       "      <th>3</th>\n",
       "      <td>00 Total</td>\n",
       "      <td>Dato base</td>\n",
       "      <td>2019M09</td>\n",
       "      <td>8.845.152</td>\n",
       "    </tr>\n",
       "    <tr>\n",
       "      <th>4</th>\n",
       "      <td>00 Total</td>\n",
       "      <td>Dato base</td>\n",
       "      <td>2019M08</td>\n",
       "      <td>10.118.366</td>\n",
       "    </tr>\n",
       "    <tr>\n",
       "      <th>...</th>\n",
       "      <td>...</td>\n",
       "      <td>...</td>\n",
       "      <td>...</td>\n",
       "      <td>...</td>\n",
       "    </tr>\n",
       "    <tr>\n",
       "      <th>91</th>\n",
       "      <td>18 Otras Comunidades Autónomas</td>\n",
       "      <td>Dato base</td>\n",
       "      <td>2019M05</td>\n",
       "      <td>673.347</td>\n",
       "    </tr>\n",
       "    <tr>\n",
       "      <th>92</th>\n",
       "      <td>18 Otras Comunidades Autónomas</td>\n",
       "      <td>Dato base</td>\n",
       "      <td>2019M04</td>\n",
       "      <td>689.245</td>\n",
       "    </tr>\n",
       "    <tr>\n",
       "      <th>93</th>\n",
       "      <td>18 Otras Comunidades Autónomas</td>\n",
       "      <td>Dato base</td>\n",
       "      <td>2019M03</td>\n",
       "      <td>487.515</td>\n",
       "    </tr>\n",
       "    <tr>\n",
       "      <th>94</th>\n",
       "      <td>18 Otras Comunidades Autónomas</td>\n",
       "      <td>Dato base</td>\n",
       "      <td>2019M02</td>\n",
       "      <td>400.651</td>\n",
       "    </tr>\n",
       "    <tr>\n",
       "      <th>95</th>\n",
       "      <td>18 Otras Comunidades Autónomas</td>\n",
       "      <td>Dato base</td>\n",
       "      <td>2019M01</td>\n",
       "      <td>411.955</td>\n",
       "    </tr>\n",
       "  </tbody>\n",
       "</table>\n",
       "<p>96 rows × 4 columns</p>\n",
       "</div>"
      ],
      "text/plain": [
       "                            region Tipo de dato  Periodo       Total\n",
       "0                         00 Total    Dato base  2019M12   4.304.741\n",
       "1                         00 Total    Dato base  2019M11   4.655.021\n",
       "2                         00 Total    Dato base  2019M10   7.587.749\n",
       "3                         00 Total    Dato base  2019M09   8.845.152\n",
       "4                         00 Total    Dato base  2019M08  10.118.366\n",
       "..                             ...          ...      ...         ...\n",
       "91  18 Otras Comunidades Autónomas    Dato base  2019M05     673.347\n",
       "92  18 Otras Comunidades Autónomas    Dato base  2019M04     689.245\n",
       "93  18 Otras Comunidades Autónomas    Dato base  2019M03     487.515\n",
       "94  18 Otras Comunidades Autónomas    Dato base  2019M02     400.651\n",
       "95  18 Otras Comunidades Autónomas    Dato base  2019M01     411.955\n",
       "\n",
       "[96 rows x 4 columns]"
      ]
     },
     "execution_count": 8,
     "metadata": {},
     "output_type": "execute_result"
    }
   ],
   "source": [
    "tourists2019"
   ]
  },
  {
   "cell_type": "markdown",
   "metadata": {},
   "source": [
    "### 3.2. Delete worthless information"
   ]
  },
  {
   "cell_type": "code",
   "execution_count": 9,
   "metadata": {},
   "outputs": [],
   "source": [
    "region = tourists2019[\"region\"].str.split(\" \", n = 1, expand = True)"
   ]
  },
  {
   "cell_type": "code",
   "execution_count": 10,
   "metadata": {},
   "outputs": [],
   "source": [
    "tourists2019[\"region\"] = region[1]"
   ]
  },
  {
   "cell_type": "code",
   "execution_count": 11,
   "metadata": {},
   "outputs": [
    {
     "data": {
      "text/plain": [
       "array(['Total', 'Andaluc\\x92a', 'Islas Baleares', 'Canarias',\n",
       "       'Catalu\\x96a', 'C.Valenciana', 'C.Madrid',\n",
       "       'Otras Comunidades Autónomas'], dtype=object)"
      ]
     },
     "execution_count": 11,
     "metadata": {},
     "output_type": "execute_result"
    }
   ],
   "source": [
    "tourists2019[\"region\"].unique()"
   ]
  },
  {
   "cell_type": "markdown",
   "metadata": {},
   "source": [
    "### 3.3. Replacing column values"
   ]
  },
  {
   "cell_type": "code",
   "execution_count": 12,
   "metadata": {},
   "outputs": [],
   "source": [
    "tourists2019.loc[tourists2019[\"region\"] == \"Andaluc\\x92a\", \"region\"] = \"Andalucia\"\n",
    "tourists2019.loc[tourists2019[\"region\"] == \"Catalu\\x96a\", \"region\"] = \"Cataluna\"\n",
    "tourists2019.loc[tourists2019[\"region\"] == \"Otras Comunidades Autónomas\", \"region\"] = \"Other regions\""
   ]
  },
  {
   "cell_type": "code",
   "execution_count": 13,
   "metadata": {
    "scrolled": true
   },
   "outputs": [
    {
     "data": {
      "text/plain": [
       "(96, 4)"
      ]
     },
     "execution_count": 13,
     "metadata": {},
     "output_type": "execute_result"
    }
   ],
   "source": [
    "tourists2019.shape"
   ]
  },
  {
   "cell_type": "markdown",
   "metadata": {},
   "source": [
    "### 3.4. Converting Total values from object to float"
   ]
  },
  {
   "cell_type": "code",
   "execution_count": 14,
   "metadata": {},
   "outputs": [],
   "source": [
    "tourists2019['Total'] = tourists2019['Total'].apply(lambda x: convert_str(x))"
   ]
  },
  {
   "cell_type": "code",
   "execution_count": 15,
   "metadata": {},
   "outputs": [
    {
     "data": {
      "text/plain": [
       "region\n",
       "Andalucia         12023153.0\n",
       "C.Madrid           7640980.0\n",
       "C.Valenciana       9535495.0\n",
       "Canarias          13146862.0\n",
       "Cataluna          19375153.0\n",
       "Islas Baleares    13679781.0\n",
       "Other regions      8107727.0\n",
       "Total             83509151.0\n",
       "Name: Total, dtype: float64"
      ]
     },
     "execution_count": 15,
     "metadata": {},
     "output_type": "execute_result"
    }
   ],
   "source": [
    "tourists2019.groupby(['region']).sum()['Total']"
   ]
  },
  {
   "cell_type": "markdown",
   "metadata": {},
   "source": [
    "### 3.5. Grouping by region value"
   ]
  },
  {
   "cell_type": "code",
   "execution_count": 16,
   "metadata": {},
   "outputs": [],
   "source": [
    "tourists2019 = (tourists2019.groupby(['region']).agg({\"Total\":\"sum\"}).reset_index())"
   ]
  },
  {
   "cell_type": "code",
   "execution_count": 17,
   "metadata": {},
   "outputs": [
    {
     "data": {
      "text/html": [
       "<div>\n",
       "<style scoped>\n",
       "    .dataframe tbody tr th:only-of-type {\n",
       "        vertical-align: middle;\n",
       "    }\n",
       "\n",
       "    .dataframe tbody tr th {\n",
       "        vertical-align: top;\n",
       "    }\n",
       "\n",
       "    .dataframe thead th {\n",
       "        text-align: right;\n",
       "    }\n",
       "</style>\n",
       "<table border=\"1\" class=\"dataframe\">\n",
       "  <thead>\n",
       "    <tr style=\"text-align: right;\">\n",
       "      <th></th>\n",
       "      <th>region</th>\n",
       "      <th>Total</th>\n",
       "    </tr>\n",
       "  </thead>\n",
       "  <tbody>\n",
       "    <tr>\n",
       "      <th>0</th>\n",
       "      <td>Andalucia</td>\n",
       "      <td>12023153.0</td>\n",
       "    </tr>\n",
       "    <tr>\n",
       "      <th>1</th>\n",
       "      <td>C.Madrid</td>\n",
       "      <td>7640980.0</td>\n",
       "    </tr>\n",
       "    <tr>\n",
       "      <th>2</th>\n",
       "      <td>C.Valenciana</td>\n",
       "      <td>9535495.0</td>\n",
       "    </tr>\n",
       "    <tr>\n",
       "      <th>3</th>\n",
       "      <td>Canarias</td>\n",
       "      <td>13146862.0</td>\n",
       "    </tr>\n",
       "    <tr>\n",
       "      <th>4</th>\n",
       "      <td>Cataluna</td>\n",
       "      <td>19375153.0</td>\n",
       "    </tr>\n",
       "    <tr>\n",
       "      <th>5</th>\n",
       "      <td>Islas Baleares</td>\n",
       "      <td>13679781.0</td>\n",
       "    </tr>\n",
       "    <tr>\n",
       "      <th>6</th>\n",
       "      <td>Other regions</td>\n",
       "      <td>8107727.0</td>\n",
       "    </tr>\n",
       "    <tr>\n",
       "      <th>7</th>\n",
       "      <td>Total</td>\n",
       "      <td>83509151.0</td>\n",
       "    </tr>\n",
       "  </tbody>\n",
       "</table>\n",
       "</div>"
      ],
      "text/plain": [
       "           region       Total\n",
       "0       Andalucia  12023153.0\n",
       "1        C.Madrid   7640980.0\n",
       "2    C.Valenciana   9535495.0\n",
       "3        Canarias  13146862.0\n",
       "4        Cataluna  19375153.0\n",
       "5  Islas Baleares  13679781.0\n",
       "6   Other regions   8107727.0\n",
       "7           Total  83509151.0"
      ]
     },
     "execution_count": 17,
     "metadata": {},
     "output_type": "execute_result"
    }
   ],
   "source": [
    "tourists2019"
   ]
  },
  {
   "cell_type": "markdown",
   "metadata": {},
   "source": [
    "## 4. Exporting cleaned data"
   ]
  },
  {
   "cell_type": "code",
   "execution_count": 18,
   "metadata": {},
   "outputs": [],
   "source": [
    "tourists2019 = tourists2019.reset_index(drop = True)"
   ]
  },
  {
   "cell_type": "code",
   "execution_count": 19,
   "metadata": {},
   "outputs": [
    {
     "data": {
      "text/html": [
       "<div>\n",
       "<style scoped>\n",
       "    .dataframe tbody tr th:only-of-type {\n",
       "        vertical-align: middle;\n",
       "    }\n",
       "\n",
       "    .dataframe tbody tr th {\n",
       "        vertical-align: top;\n",
       "    }\n",
       "\n",
       "    .dataframe thead th {\n",
       "        text-align: right;\n",
       "    }\n",
       "</style>\n",
       "<table border=\"1\" class=\"dataframe\">\n",
       "  <thead>\n",
       "    <tr style=\"text-align: right;\">\n",
       "      <th></th>\n",
       "      <th>region</th>\n",
       "      <th>Total</th>\n",
       "    </tr>\n",
       "  </thead>\n",
       "  <tbody>\n",
       "    <tr>\n",
       "      <th>0</th>\n",
       "      <td>Andalucia</td>\n",
       "      <td>12023153.0</td>\n",
       "    </tr>\n",
       "    <tr>\n",
       "      <th>1</th>\n",
       "      <td>C.Madrid</td>\n",
       "      <td>7640980.0</td>\n",
       "    </tr>\n",
       "    <tr>\n",
       "      <th>2</th>\n",
       "      <td>C.Valenciana</td>\n",
       "      <td>9535495.0</td>\n",
       "    </tr>\n",
       "    <tr>\n",
       "      <th>3</th>\n",
       "      <td>Canarias</td>\n",
       "      <td>13146862.0</td>\n",
       "    </tr>\n",
       "    <tr>\n",
       "      <th>4</th>\n",
       "      <td>Cataluna</td>\n",
       "      <td>19375153.0</td>\n",
       "    </tr>\n",
       "  </tbody>\n",
       "</table>\n",
       "</div>"
      ],
      "text/plain": [
       "         region       Total\n",
       "0     Andalucia  12023153.0\n",
       "1      C.Madrid   7640980.0\n",
       "2  C.Valenciana   9535495.0\n",
       "3      Canarias  13146862.0\n",
       "4      Cataluna  19375153.0"
      ]
     },
     "execution_count": 19,
     "metadata": {},
     "output_type": "execute_result"
    }
   ],
   "source": [
    "tourists2019.head()"
   ]
  },
  {
   "cell_type": "code",
   "execution_count": 20,
   "metadata": {},
   "outputs": [],
   "source": [
    "tourists2019.to_csv(\"../output/tourists2019.csv\", index = False)"
   ]
  }
 ],
 "metadata": {
  "kernelspec": {
   "display_name": "Python 3",
   "language": "python",
   "name": "python3"
  },
  "language_info": {
   "codemirror_mode": {
    "name": "ipython",
    "version": 3
   },
   "file_extension": ".py",
   "mimetype": "text/x-python",
   "name": "python",
   "nbconvert_exporter": "python",
   "pygments_lexer": "ipython3",
   "version": "3.9.1"
  }
 },
 "nbformat": 4,
 "nbformat_minor": 4
}
