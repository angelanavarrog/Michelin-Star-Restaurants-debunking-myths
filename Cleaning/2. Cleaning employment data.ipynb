{
 "cells": [
  {
   "cell_type": "markdown",
   "metadata": {},
   "source": [
    "# In this second cleaning notebook, I proceed with the cleaning of Spanish Q4 2020 unemployment and employment rates database."
   ]
  },
  {
   "cell_type": "markdown",
   "metadata": {},
   "source": [
    "## 1. Importing libraries that are used."
   ]
  },
  {
   "cell_type": "code",
   "execution_count": 1,
   "metadata": {},
   "outputs": [],
   "source": [
    "import pandas as pd\n",
    "import numpy as np\n",
    "import sys\n",
    "sys.path.insert(0, '../src')\n",
    "import unittest\n",
    "from call import *"
   ]
  },
  {
   "cell_type": "markdown",
   "metadata": {},
   "source": [
    "## 2. Importing database and data exploration"
   ]
  },
  {
   "cell_type": "code",
   "execution_count": 2,
   "metadata": {},
   "outputs": [],
   "source": [
    "employment = pd.read_csv(\"../data/empleo.csv\", encoding = \"ISO-8859-1\",sep = (\";\"), engine='python', error_bad_lines=False, warn_bad_lines=False)"
   ]
  },
  {
   "cell_type": "code",
   "execution_count": 3,
   "metadata": {},
   "outputs": [
    {
     "data": {
      "text/plain": [
       "(53, 5)"
      ]
     },
     "execution_count": 3,
     "metadata": {},
     "output_type": "execute_result"
    }
   ],
   "source": [
    "employment.shape"
   ]
  },
  {
   "cell_type": "code",
   "execution_count": 4,
   "metadata": {},
   "outputs": [
    {
     "data": {
      "text/html": [
       "<div>\n",
       "<style scoped>\n",
       "    .dataframe tbody tr th:only-of-type {\n",
       "        vertical-align: middle;\n",
       "    }\n",
       "\n",
       "    .dataframe tbody tr th {\n",
       "        vertical-align: top;\n",
       "    }\n",
       "\n",
       "    .dataframe thead th {\n",
       "        text-align: right;\n",
       "    }\n",
       "</style>\n",
       "<table border=\"1\" class=\"dataframe\">\n",
       "  <thead>\n",
       "    <tr style=\"text-align: right;\">\n",
       "      <th></th>\n",
       "      <th>Sexo</th>\n",
       "      <th>Provincias</th>\n",
       "      <th>Tasas</th>\n",
       "      <th>Periodo</th>\n",
       "      <th>Total</th>\n",
       "    </tr>\n",
       "  </thead>\n",
       "  <tbody>\n",
       "    <tr>\n",
       "      <th>0</th>\n",
       "      <td>Ambos sexos</td>\n",
       "      <td>Total Nacional</td>\n",
       "      <td>Tasa de empleo de la población</td>\n",
       "      <td>2020T4</td>\n",
       "      <td>48.81</td>\n",
       "    </tr>\n",
       "    <tr>\n",
       "      <th>1</th>\n",
       "      <td>Ambos sexos</td>\n",
       "      <td>02 Albacete</td>\n",
       "      <td>Tasa de empleo de la población</td>\n",
       "      <td>2020T4</td>\n",
       "      <td>48.63</td>\n",
       "    </tr>\n",
       "    <tr>\n",
       "      <th>2</th>\n",
       "      <td>Ambos sexos</td>\n",
       "      <td>03 Alicante/Alacant</td>\n",
       "      <td>Tasa de empleo de la población</td>\n",
       "      <td>2020T4</td>\n",
       "      <td>45.92</td>\n",
       "    </tr>\n",
       "    <tr>\n",
       "      <th>3</th>\n",
       "      <td>Ambos sexos</td>\n",
       "      <td>04 Almería</td>\n",
       "      <td>Tasa de empleo de la población</td>\n",
       "      <td>2020T4</td>\n",
       "      <td>47.09</td>\n",
       "    </tr>\n",
       "    <tr>\n",
       "      <th>4</th>\n",
       "      <td>Ambos sexos</td>\n",
       "      <td>01 Araba/Álava</td>\n",
       "      <td>Tasa de empleo de la población</td>\n",
       "      <td>2020T4</td>\n",
       "      <td>49.60</td>\n",
       "    </tr>\n",
       "  </tbody>\n",
       "</table>\n",
       "</div>"
      ],
      "text/plain": [
       "          Sexo           Provincias                           Tasas Periodo  \\\n",
       "0  Ambos sexos       Total Nacional  Tasa de empleo de la población  2020T4   \n",
       "1  Ambos sexos          02 Albacete  Tasa de empleo de la población  2020T4   \n",
       "2  Ambos sexos  03 Alicante/Alacant  Tasa de empleo de la población  2020T4   \n",
       "3  Ambos sexos           04 Almería  Tasa de empleo de la población  2020T4   \n",
       "4  Ambos sexos       01 Araba/Álava  Tasa de empleo de la población  2020T4   \n",
       "\n",
       "   Total  \n",
       "0  48.81  \n",
       "1  48.63  \n",
       "2  45.92  \n",
       "3  47.09  \n",
       "4  49.60  "
      ]
     },
     "execution_count": 4,
     "metadata": {},
     "output_type": "execute_result"
    }
   ],
   "source": [
    "employment.head()"
   ]
  },
  {
   "cell_type": "code",
   "execution_count": 5,
   "metadata": {},
   "outputs": [
    {
     "data": {
      "text/plain": [
       "Index(['Sexo', 'Provincias', 'Tasas', 'Periodo', 'Total'], dtype='object')"
      ]
     },
     "execution_count": 5,
     "metadata": {},
     "output_type": "execute_result"
    }
   ],
   "source": [
    "employment.columns"
   ]
  },
  {
   "cell_type": "code",
   "execution_count": 6,
   "metadata": {},
   "outputs": [
    {
     "data": {
      "text/plain": [
       "Sexo           object\n",
       "Provincias     object\n",
       "Tasas          object\n",
       "Periodo        object\n",
       "Total         float64\n",
       "dtype: object"
      ]
     },
     "execution_count": 6,
     "metadata": {},
     "output_type": "execute_result"
    }
   ],
   "source": [
    "employment.dtypes"
   ]
  },
  {
   "cell_type": "markdown",
   "metadata": {},
   "source": [
    "## 3. Cleaning database"
   ]
  },
  {
   "cell_type": "markdown",
   "metadata": {},
   "source": [
    "### 3.1. Renaming information content of an specific column."
   ]
  },
  {
   "cell_type": "code",
   "execution_count": 7,
   "metadata": {},
   "outputs": [],
   "source": [
    "employment = employment.rename(columns={'Total': 'Employment rate'})"
   ]
  },
  {
   "cell_type": "markdown",
   "metadata": {},
   "source": [
    "### 3.2. Spliting information conent in column named \"Provincias\"."
   ]
  },
  {
   "cell_type": "code",
   "execution_count": 8,
   "metadata": {},
   "outputs": [],
   "source": [
    "provincias = employment[\"Provincias\"].str.split(\" \", n = 1, expand = True)"
   ]
  },
  {
   "cell_type": "code",
   "execution_count": 9,
   "metadata": {},
   "outputs": [],
   "source": [
    "employment[\"Provincias\"] = provincias[1]"
   ]
  },
  {
   "cell_type": "code",
   "execution_count": 10,
   "metadata": {},
   "outputs": [
    {
     "data": {
      "text/plain": [
       "array(['Nacional', 'Albacete', 'Alicante/Alacant', 'Almería',\n",
       "       'Araba/Álava', 'Asturias', 'Ávila', 'Badajoz', 'Balears. Illes',\n",
       "       'Barcelona', 'Bizkaia', 'Burgos', 'Cáceres', 'Cádiz', 'Cantabria',\n",
       "       'Castellón/Castelló', 'Ciudad Real', 'Córdoba', 'Coruña. A',\n",
       "       'Cuenca', 'Gipuzkoa', 'Girona', 'Granada', 'Guadalajara', 'Huelva',\n",
       "       'Huesca', 'Jaén', 'León', 'Lleida', 'Lugo', 'Madrid', 'Málaga',\n",
       "       'Murcia', 'Navarra', 'Ourense', 'Palencia', 'Palmas. Las',\n",
       "       'Pontevedra', 'Rioja. La', 'Salamanca', 'Santa Cruz de Tenerife',\n",
       "       'Segovia', 'Sevilla', 'Soria', 'Tarragona', 'Teruel', 'Toledo',\n",
       "       'Valencia/València', 'Valladolid', 'Zamora', 'Zaragoza', 'Ceuta',\n",
       "       'Melilla'], dtype=object)"
      ]
     },
     "execution_count": 10,
     "metadata": {},
     "output_type": "execute_result"
    }
   ],
   "source": [
    "employment[\"Provincias\"].unique()"
   ]
  },
  {
   "cell_type": "markdown",
   "metadata": {},
   "source": [
    "### 3.3. Replacing values."
   ]
  },
  {
   "cell_type": "markdown",
   "metadata": {},
   "source": [
    "#### 3.3.1. Replacing vowels"
   ]
  },
  {
   "cell_type": "code",
   "execution_count": 11,
   "metadata": {},
   "outputs": [],
   "source": [
    "# Function imported from call.py\n",
    "employment[\"Provincias\"] = employment[\"Provincias\"].apply(normalize)"
   ]
  },
  {
   "cell_type": "markdown",
   "metadata": {},
   "source": [
    "#### 3.3.2. Replacing the names of the provinces with the names that appear in the restaurants' database"
   ]
  },
  {
   "cell_type": "code",
   "execution_count": 12,
   "metadata": {},
   "outputs": [],
   "source": [
    "employment.loc[employment[\"Provincias\"] == \"Alicante/Alacant\", \"Provincias\"] = \"Alicante\"\n",
    "employment.loc[employment[\"Provincias\"] == \"Coruña, A\", \"Provincias\"] = \"La Coruna\"\n",
    "employment.loc[employment[\"Provincias\"] == \"Rioja, La\", \"Provincias\"] = \"La Rioja\"\n",
    "employment.loc[employment[\"Provincias\"] == \"Bizkaia\", \"Provincias\"] = \"Vizcaya\"\n",
    "employment.loc[employment[\"Provincias\"] == \"Araba/Alava\", \"Provincias\"] = \"Alava\"\n",
    "employment.loc[employment[\"Provincias\"] == \"Castellon/Castello\", \"Provincias\"] = \"Castellon\"\n",
    "employment.loc[employment[\"Provincias\"] == \"Lleida\", \"Provincias\"] = \"Lerida\"\n",
    "employment.loc[employment[\"Provincias\"] == \"Gipuzkoa\", \"Provincias\"] = \"Guipuzcua\"\n",
    "employment.loc[employment[\"Provincias\"] == \"Girona\", \"Provincias\"] = \"Gerona\"\n",
    "employment.loc[employment[\"Provincias\"] == \"Valencia/València\", \"Provincias\"] = \"Valencia\"\n",
    "employment.loc[employment[\"Provincias\"] == \"Balears, Illes\", \"Provincias\"] = \"Islas Baleares\"\n",
    "employment.loc[employment[\"Provincias\"] == \"Palmas, Las\", \"Provincias\"] = \"Las Palmas\""
   ]
  },
  {
   "cell_type": "code",
   "execution_count": 13,
   "metadata": {},
   "outputs": [
    {
     "data": {
      "text/plain": [
       "array(['Nacional', 'Albacete', 'Alicante', 'Almeria', 'Alava', 'Asturias',\n",
       "       'Avila', 'Badajoz', 'Balears. Illes', 'Barcelona', 'Vizcaya',\n",
       "       'Burgos', 'Caceres', 'Cadiz', 'Cantabria', 'Castellon',\n",
       "       'Ciudad Real', 'Cordoba', 'Coruña. A', 'Cuenca', 'Guipuzcua',\n",
       "       'Gerona', 'Granada', 'Guadalajara', 'Huelva', 'Huesca', 'Jaen',\n",
       "       'Leon', 'Lerida', 'Lugo', 'Madrid', 'Malaga', 'Murcia', 'Navarra',\n",
       "       'Ourense', 'Palencia', 'Palmas. Las', 'Pontevedra', 'Rioja. La',\n",
       "       'Salamanca', 'Santa Cruz de Tenerife', 'Segovia', 'Sevilla',\n",
       "       'Soria', 'Tarragona', 'Teruel', 'Toledo', 'Valencia', 'Valladolid',\n",
       "       'Zamora', 'Zaragoza', 'Ceuta', 'Melilla'], dtype=object)"
      ]
     },
     "execution_count": 13,
     "metadata": {},
     "output_type": "execute_result"
    }
   ],
   "source": [
    "employment.Provincias.unique()"
   ]
  },
  {
   "cell_type": "code",
   "execution_count": 14,
   "metadata": {},
   "outputs": [
    {
     "data": {
      "text/plain": [
       "(53, 5)"
      ]
     },
     "execution_count": 14,
     "metadata": {},
     "output_type": "execute_result"
    }
   ],
   "source": [
    "employment.shape"
   ]
  },
  {
   "cell_type": "markdown",
   "metadata": {},
   "source": [
    "### 3.4. Drop unnecessary column"
   ]
  },
  {
   "cell_type": "code",
   "execution_count": 15,
   "metadata": {},
   "outputs": [],
   "source": [
    "employment = employment.drop(['Tasas','Periodo','Sexo'], axis=1)"
   ]
  },
  {
   "cell_type": "code",
   "execution_count": 16,
   "metadata": {},
   "outputs": [
    {
     "data": {
      "text/html": [
       "<div>\n",
       "<style scoped>\n",
       "    .dataframe tbody tr th:only-of-type {\n",
       "        vertical-align: middle;\n",
       "    }\n",
       "\n",
       "    .dataframe tbody tr th {\n",
       "        vertical-align: top;\n",
       "    }\n",
       "\n",
       "    .dataframe thead th {\n",
       "        text-align: right;\n",
       "    }\n",
       "</style>\n",
       "<table border=\"1\" class=\"dataframe\">\n",
       "  <thead>\n",
       "    <tr style=\"text-align: right;\">\n",
       "      <th></th>\n",
       "      <th>Provincias</th>\n",
       "      <th>Employment rate</th>\n",
       "    </tr>\n",
       "  </thead>\n",
       "  <tbody>\n",
       "    <tr>\n",
       "      <th>0</th>\n",
       "      <td>Nacional</td>\n",
       "      <td>48.81</td>\n",
       "    </tr>\n",
       "    <tr>\n",
       "      <th>1</th>\n",
       "      <td>Albacete</td>\n",
       "      <td>48.63</td>\n",
       "    </tr>\n",
       "    <tr>\n",
       "      <th>2</th>\n",
       "      <td>Alicante</td>\n",
       "      <td>45.92</td>\n",
       "    </tr>\n",
       "    <tr>\n",
       "      <th>3</th>\n",
       "      <td>Almeria</td>\n",
       "      <td>47.09</td>\n",
       "    </tr>\n",
       "    <tr>\n",
       "      <th>4</th>\n",
       "      <td>Alava</td>\n",
       "      <td>49.60</td>\n",
       "    </tr>\n",
       "  </tbody>\n",
       "</table>\n",
       "</div>"
      ],
      "text/plain": [
       "  Provincias  Employment rate\n",
       "0   Nacional            48.81\n",
       "1   Albacete            48.63\n",
       "2   Alicante            45.92\n",
       "3    Almeria            47.09\n",
       "4      Alava            49.60"
      ]
     },
     "execution_count": 16,
     "metadata": {},
     "output_type": "execute_result"
    }
   ],
   "source": [
    "employment.head()"
   ]
  },
  {
   "cell_type": "markdown",
   "metadata": {},
   "source": [
    "## 4. Exporting cleaning data"
   ]
  },
  {
   "cell_type": "code",
   "execution_count": 17,
   "metadata": {},
   "outputs": [],
   "source": [
    "employment = employment.reset_index(drop = True)"
   ]
  },
  {
   "cell_type": "code",
   "execution_count": 18,
   "metadata": {},
   "outputs": [
    {
     "data": {
      "text/html": [
       "<div>\n",
       "<style scoped>\n",
       "    .dataframe tbody tr th:only-of-type {\n",
       "        vertical-align: middle;\n",
       "    }\n",
       "\n",
       "    .dataframe tbody tr th {\n",
       "        vertical-align: top;\n",
       "    }\n",
       "\n",
       "    .dataframe thead th {\n",
       "        text-align: right;\n",
       "    }\n",
       "</style>\n",
       "<table border=\"1\" class=\"dataframe\">\n",
       "  <thead>\n",
       "    <tr style=\"text-align: right;\">\n",
       "      <th></th>\n",
       "      <th>Provincias</th>\n",
       "      <th>Employment rate</th>\n",
       "    </tr>\n",
       "  </thead>\n",
       "  <tbody>\n",
       "    <tr>\n",
       "      <th>0</th>\n",
       "      <td>Nacional</td>\n",
       "      <td>48.81</td>\n",
       "    </tr>\n",
       "    <tr>\n",
       "      <th>1</th>\n",
       "      <td>Albacete</td>\n",
       "      <td>48.63</td>\n",
       "    </tr>\n",
       "    <tr>\n",
       "      <th>2</th>\n",
       "      <td>Alicante</td>\n",
       "      <td>45.92</td>\n",
       "    </tr>\n",
       "    <tr>\n",
       "      <th>3</th>\n",
       "      <td>Almeria</td>\n",
       "      <td>47.09</td>\n",
       "    </tr>\n",
       "    <tr>\n",
       "      <th>4</th>\n",
       "      <td>Alava</td>\n",
       "      <td>49.60</td>\n",
       "    </tr>\n",
       "  </tbody>\n",
       "</table>\n",
       "</div>"
      ],
      "text/plain": [
       "  Provincias  Employment rate\n",
       "0   Nacional            48.81\n",
       "1   Albacete            48.63\n",
       "2   Alicante            45.92\n",
       "3    Almeria            47.09\n",
       "4      Alava            49.60"
      ]
     },
     "execution_count": 18,
     "metadata": {},
     "output_type": "execute_result"
    }
   ],
   "source": [
    "employment.head()"
   ]
  },
  {
   "cell_type": "code",
   "execution_count": 19,
   "metadata": {},
   "outputs": [],
   "source": [
    "employment.to_csv(\"../output/employment.csv\", index = False)"
   ]
  }
 ],
 "metadata": {
  "kernelspec": {
   "display_name": "Python 3",
   "language": "python",
   "name": "python3"
  },
  "language_info": {
   "codemirror_mode": {
    "name": "ipython",
    "version": 3
   },
   "file_extension": ".py",
   "mimetype": "text/x-python",
   "name": "python",
   "nbconvert_exporter": "python",
   "pygments_lexer": "ipython3",
   "version": "3.9.1"
  }
 },
 "nbformat": 4,
 "nbformat_minor": 4
}
